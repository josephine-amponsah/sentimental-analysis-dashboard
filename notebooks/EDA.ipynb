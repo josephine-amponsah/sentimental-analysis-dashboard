{
 "cells": [
  {
   "cell_type": "code",
   "execution_count": 1,
   "metadata": {},
   "outputs": [],
   "source": [
    "import pandas as pd   \n",
    "import numpy as np \n",
    "import seaborn as sns  \n",
    "import matplotlib.pyplot as plt  \n"
   ]
  },
  {
   "cell_type": "code",
   "execution_count": 2,
   "metadata": {},
   "outputs": [],
   "source": [
    "marketing = pd.read_csv(r'C:\\\\Users\\\\HP\\\\Downloads\\\\mybooks\\\\project\\\\ads-proj\\\\ad-sales-ml-proj\\\\data\\\\marketingData.csv', index_col= 0)"
   ]
  },
  {
   "cell_type": "code",
   "execution_count": 3,
   "metadata": {},
   "outputs": [
    {
     "data": {
      "text/html": [
       "<div>\n",
       "<style scoped>\n",
       "    .dataframe tbody tr th:only-of-type {\n",
       "        vertical-align: middle;\n",
       "    }\n",
       "\n",
       "    .dataframe tbody tr th {\n",
       "        vertical-align: top;\n",
       "    }\n",
       "\n",
       "    .dataframe thead th {\n",
       "        text-align: right;\n",
       "    }\n",
       "</style>\n",
       "<table border=\"1\" class=\"dataframe\">\n",
       "  <thead>\n",
       "    <tr style=\"text-align: right;\">\n",
       "      <th></th>\n",
       "      <th>periodCode</th>\n",
       "      <th>platformCode</th>\n",
       "      <th>channelCode</th>\n",
       "      <th>marketingInvestment</th>\n",
       "      <th>impressions</th>\n",
       "      <th>clicks</th>\n",
       "      <th>visits</th>\n",
       "      <th>conversions</th>\n",
       "      <th>deliveries</th>\n",
       "    </tr>\n",
       "  </thead>\n",
       "  <tbody>\n",
       "    <tr>\n",
       "      <th>0</th>\n",
       "      <td>20200102</td>\n",
       "      <td>AdWords</td>\n",
       "      <td>adwords_bra</td>\n",
       "      <td>167.09</td>\n",
       "      <td>408</td>\n",
       "      <td>266</td>\n",
       "      <td>306</td>\n",
       "      <td>4</td>\n",
       "      <td>4</td>\n",
       "    </tr>\n",
       "    <tr>\n",
       "      <th>1</th>\n",
       "      <td>20200102</td>\n",
       "      <td>AdWords</td>\n",
       "      <td>adwords_dsa</td>\n",
       "      <td>31.06</td>\n",
       "      <td>370</td>\n",
       "      <td>12</td>\n",
       "      <td>11</td>\n",
       "      <td>0</td>\n",
       "      <td>0</td>\n",
       "    </tr>\n",
       "    <tr>\n",
       "      <th>2</th>\n",
       "      <td>20200102</td>\n",
       "      <td>AdWords</td>\n",
       "      <td>adwords_pla</td>\n",
       "      <td>10868.92</td>\n",
       "      <td>191564</td>\n",
       "      <td>2609</td>\n",
       "      <td>2667</td>\n",
       "      <td>27</td>\n",
       "      <td>27</td>\n",
       "    </tr>\n",
       "    <tr>\n",
       "      <th>3</th>\n",
       "      <td>20200102</td>\n",
       "      <td>AdWords</td>\n",
       "      <td>adwords_rem</td>\n",
       "      <td>762.06</td>\n",
       "      <td>24668</td>\n",
       "      <td>386</td>\n",
       "      <td>429</td>\n",
       "      <td>3</td>\n",
       "      <td>3</td>\n",
       "    </tr>\n",
       "    <tr>\n",
       "      <th>4</th>\n",
       "      <td>20200102</td>\n",
       "      <td>AdWords</td>\n",
       "      <td>adwords_sea</td>\n",
       "      <td>41.59</td>\n",
       "      <td>531</td>\n",
       "      <td>26</td>\n",
       "      <td>36</td>\n",
       "      <td>0</td>\n",
       "      <td>0</td>\n",
       "    </tr>\n",
       "  </tbody>\n",
       "</table>\n",
       "</div>"
      ],
      "text/plain": [
       "   periodCode platformCode  channelCode  marketingInvestment  impressions  \\\n",
       "0    20200102      AdWords  adwords_bra               167.09          408   \n",
       "1    20200102      AdWords  adwords_dsa                31.06          370   \n",
       "2    20200102      AdWords  adwords_pla             10868.92       191564   \n",
       "3    20200102      AdWords  adwords_rem               762.06        24668   \n",
       "4    20200102      AdWords  adwords_sea                41.59          531   \n",
       "\n",
       "   clicks  visits  conversions  deliveries  \n",
       "0     266     306            4           4  \n",
       "1      12      11            0           0  \n",
       "2    2609    2667           27          27  \n",
       "3     386     429            3           3  \n",
       "4      26      36            0           0  "
      ]
     },
     "execution_count": 3,
     "metadata": {},
     "output_type": "execute_result"
    }
   ],
   "source": [
    "marketing.head()"
   ]
  },
  {
   "cell_type": "code",
   "execution_count": 4,
   "metadata": {},
   "outputs": [
    {
     "name": "stdout",
     "output_type": "stream",
     "text": [
      "<class 'pandas.core.frame.DataFrame'>\n",
      "Int64Index: 1814 entries, 0 to 1813\n",
      "Data columns (total 9 columns):\n",
      " #   Column               Non-Null Count  Dtype  \n",
      "---  ------               --------------  -----  \n",
      " 0   periodCode           1814 non-null   int64  \n",
      " 1   platformCode         1814 non-null   object \n",
      " 2   channelCode          1814 non-null   object \n",
      " 3   marketingInvestment  1814 non-null   float64\n",
      " 4   impressions          1814 non-null   int64  \n",
      " 5   clicks               1814 non-null   int64  \n",
      " 6   visits               1814 non-null   int64  \n",
      " 7   conversions          1814 non-null   int64  \n",
      " 8   deliveries           1814 non-null   int64  \n",
      "dtypes: float64(1), int64(6), object(2)\n",
      "memory usage: 141.7+ KB\n"
     ]
    }
   ],
   "source": [
    "marketing.info()"
   ]
  },
  {
   "cell_type": "code",
   "execution_count": 5,
   "metadata": {},
   "outputs": [],
   "source": [
    "marketing['periodCode'] = marketing['periodCode'].astype(str)"
   ]
  },
  {
   "cell_type": "code",
   "execution_count": 6,
   "metadata": {},
   "outputs": [],
   "source": [
    "marketing['periodCode'] = pd.to_datetime(marketing['periodCode'], format=\"%Y-%m-%d\")"
   ]
  },
  {
   "cell_type": "code",
   "execution_count": 7,
   "metadata": {},
   "outputs": [
    {
     "data": {
      "text/html": [
       "<div>\n",
       "<style scoped>\n",
       "    .dataframe tbody tr th:only-of-type {\n",
       "        vertical-align: middle;\n",
       "    }\n",
       "\n",
       "    .dataframe tbody tr th {\n",
       "        vertical-align: top;\n",
       "    }\n",
       "\n",
       "    .dataframe thead th {\n",
       "        text-align: right;\n",
       "    }\n",
       "</style>\n",
       "<table border=\"1\" class=\"dataframe\">\n",
       "  <thead>\n",
       "    <tr style=\"text-align: right;\">\n",
       "      <th></th>\n",
       "      <th>periodCode</th>\n",
       "      <th>platformCode</th>\n",
       "      <th>channelCode</th>\n",
       "      <th>marketingInvestment</th>\n",
       "      <th>impressions</th>\n",
       "      <th>clicks</th>\n",
       "      <th>visits</th>\n",
       "      <th>conversions</th>\n",
       "      <th>deliveries</th>\n",
       "    </tr>\n",
       "  </thead>\n",
       "  <tbody>\n",
       "    <tr>\n",
       "      <th>0</th>\n",
       "      <td>2020-01-02</td>\n",
       "      <td>AdWords</td>\n",
       "      <td>adwords_bra</td>\n",
       "      <td>167.09</td>\n",
       "      <td>408</td>\n",
       "      <td>266</td>\n",
       "      <td>306</td>\n",
       "      <td>4</td>\n",
       "      <td>4</td>\n",
       "    </tr>\n",
       "    <tr>\n",
       "      <th>1</th>\n",
       "      <td>2020-01-02</td>\n",
       "      <td>AdWords</td>\n",
       "      <td>adwords_dsa</td>\n",
       "      <td>31.06</td>\n",
       "      <td>370</td>\n",
       "      <td>12</td>\n",
       "      <td>11</td>\n",
       "      <td>0</td>\n",
       "      <td>0</td>\n",
       "    </tr>\n",
       "    <tr>\n",
       "      <th>2</th>\n",
       "      <td>2020-01-02</td>\n",
       "      <td>AdWords</td>\n",
       "      <td>adwords_pla</td>\n",
       "      <td>10868.92</td>\n",
       "      <td>191564</td>\n",
       "      <td>2609</td>\n",
       "      <td>2667</td>\n",
       "      <td>27</td>\n",
       "      <td>27</td>\n",
       "    </tr>\n",
       "    <tr>\n",
       "      <th>3</th>\n",
       "      <td>2020-01-02</td>\n",
       "      <td>AdWords</td>\n",
       "      <td>adwords_rem</td>\n",
       "      <td>762.06</td>\n",
       "      <td>24668</td>\n",
       "      <td>386</td>\n",
       "      <td>429</td>\n",
       "      <td>3</td>\n",
       "      <td>3</td>\n",
       "    </tr>\n",
       "    <tr>\n",
       "      <th>4</th>\n",
       "      <td>2020-01-02</td>\n",
       "      <td>AdWords</td>\n",
       "      <td>adwords_sea</td>\n",
       "      <td>41.59</td>\n",
       "      <td>531</td>\n",
       "      <td>26</td>\n",
       "      <td>36</td>\n",
       "      <td>0</td>\n",
       "      <td>0</td>\n",
       "    </tr>\n",
       "  </tbody>\n",
       "</table>\n",
       "</div>"
      ],
      "text/plain": [
       "  periodCode platformCode  channelCode  marketingInvestment  impressions  \\\n",
       "0 2020-01-02      AdWords  adwords_bra               167.09          408   \n",
       "1 2020-01-02      AdWords  adwords_dsa                31.06          370   \n",
       "2 2020-01-02      AdWords  adwords_pla             10868.92       191564   \n",
       "3 2020-01-02      AdWords  adwords_rem               762.06        24668   \n",
       "4 2020-01-02      AdWords  adwords_sea                41.59          531   \n",
       "\n",
       "   clicks  visits  conversions  deliveries  \n",
       "0     266     306            4           4  \n",
       "1      12      11            0           0  \n",
       "2    2609    2667           27          27  \n",
       "3     386     429            3           3  \n",
       "4      26      36            0           0  "
      ]
     },
     "execution_count": 7,
     "metadata": {},
     "output_type": "execute_result"
    }
   ],
   "source": [
    "marketing.head()"
   ]
  },
  {
   "cell_type": "code",
   "execution_count": 8,
   "metadata": {},
   "outputs": [],
   "source": [
    "revenue = pd.read_csv(r'C:\\\\Users\\\\HP\\\\Downloads\\\\mybooks\\\\project\\\\ads-proj\\\\ad-sales-ml-proj\\\\data\\\\revenueData.csv', index_col = 0)"
   ]
  },
  {
   "cell_type": "code",
   "execution_count": 9,
   "metadata": {},
   "outputs": [
    {
     "data": {
      "text/html": [
       "<div>\n",
       "<style scoped>\n",
       "    .dataframe tbody tr th:only-of-type {\n",
       "        vertical-align: middle;\n",
       "    }\n",
       "\n",
       "    .dataframe tbody tr th {\n",
       "        vertical-align: top;\n",
       "    }\n",
       "\n",
       "    .dataframe thead th {\n",
       "        text-align: right;\n",
       "    }\n",
       "</style>\n",
       "<table border=\"1\" class=\"dataframe\">\n",
       "  <thead>\n",
       "    <tr style=\"text-align: right;\">\n",
       "      <th></th>\n",
       "      <th>createdAt</th>\n",
       "      <th>platformCode</th>\n",
       "      <th>channelCode</th>\n",
       "      <th>revenue</th>\n",
       "    </tr>\n",
       "  </thead>\n",
       "  <tbody>\n",
       "    <tr>\n",
       "      <th>0</th>\n",
       "      <td>2020-01-02</td>\n",
       "      <td>AdWords</td>\n",
       "      <td>adwords_bra</td>\n",
       "      <td>5581</td>\n",
       "    </tr>\n",
       "    <tr>\n",
       "      <th>1</th>\n",
       "      <td>2020-01-02</td>\n",
       "      <td>AdWords</td>\n",
       "      <td>adwords_pla</td>\n",
       "      <td>60605</td>\n",
       "    </tr>\n",
       "    <tr>\n",
       "      <th>2</th>\n",
       "      <td>2020-01-02</td>\n",
       "      <td>AdWords</td>\n",
       "      <td>adwords_rem</td>\n",
       "      <td>2681</td>\n",
       "    </tr>\n",
       "    <tr>\n",
       "      <th>3</th>\n",
       "      <td>2020-01-02</td>\n",
       "      <td>HeurekaCz</td>\n",
       "      <td>heureka</td>\n",
       "      <td>15131</td>\n",
       "    </tr>\n",
       "    <tr>\n",
       "      <th>4</th>\n",
       "      <td>2020-01-02</td>\n",
       "      <td>RtbHouse</td>\n",
       "      <td>rtbhouse</td>\n",
       "      <td>1082</td>\n",
       "    </tr>\n",
       "  </tbody>\n",
       "</table>\n",
       "</div>"
      ],
      "text/plain": [
       "    createdAt platformCode  channelCode  revenue\n",
       "0  2020-01-02      AdWords  adwords_bra     5581\n",
       "1  2020-01-02      AdWords  adwords_pla    60605\n",
       "2  2020-01-02      AdWords  adwords_rem     2681\n",
       "3  2020-01-02    HeurekaCz      heureka    15131\n",
       "4  2020-01-02     RtbHouse     rtbhouse     1082"
      ]
     },
     "execution_count": 9,
     "metadata": {},
     "output_type": "execute_result"
    }
   ],
   "source": [
    "revenue.head()"
   ]
  },
  {
   "cell_type": "code",
   "execution_count": 10,
   "metadata": {},
   "outputs": [],
   "source": [
    "marketing.rename(columns = {'periodCode':'createdAt'}, inplace = True)"
   ]
  },
  {
   "cell_type": "code",
   "execution_count": 11,
   "metadata": {},
   "outputs": [
    {
     "name": "stdout",
     "output_type": "stream",
     "text": [
      "<class 'pandas.core.frame.DataFrame'>\n",
      "Int64Index: 1061 entries, 0 to 1060\n",
      "Data columns (total 4 columns):\n",
      " #   Column        Non-Null Count  Dtype \n",
      "---  ------        --------------  ----- \n",
      " 0   createdAt     1061 non-null   object\n",
      " 1   platformCode  1061 non-null   object\n",
      " 2   channelCode   1061 non-null   object\n",
      " 3   revenue       1061 non-null   int64 \n",
      "dtypes: int64(1), object(3)\n",
      "memory usage: 41.4+ KB\n"
     ]
    }
   ],
   "source": [
    "revenue.info()"
   ]
  },
  {
   "cell_type": "code",
   "execution_count": 12,
   "metadata": {},
   "outputs": [],
   "source": [
    "revenue['createdAt'] = pd.to_datetime(revenue['createdAt'], format=\"%Y-%m-%d\")"
   ]
  },
  {
   "cell_type": "code",
   "execution_count": 13,
   "metadata": {},
   "outputs": [
    {
     "name": "stdout",
     "output_type": "stream",
     "text": [
      "<class 'pandas.core.frame.DataFrame'>\n",
      "Int64Index: 1061 entries, 0 to 1060\n",
      "Data columns (total 4 columns):\n",
      " #   Column        Non-Null Count  Dtype         \n",
      "---  ------        --------------  -----         \n",
      " 0   createdAt     1061 non-null   datetime64[ns]\n",
      " 1   platformCode  1061 non-null   object        \n",
      " 2   channelCode   1061 non-null   object        \n",
      " 3   revenue       1061 non-null   int64         \n",
      "dtypes: datetime64[ns](1), int64(1), object(2)\n",
      "memory usage: 41.4+ KB\n"
     ]
    }
   ],
   "source": [
    "revenue.info()"
   ]
  },
  {
   "cell_type": "code",
   "execution_count": 14,
   "metadata": {},
   "outputs": [],
   "source": [
    "from numpy import float64\n",
    "\n",
    "\n",
    "revenue['revenue'] = revenue['revenue'].astype(float64)"
   ]
  },
  {
   "cell_type": "code",
   "execution_count": 15,
   "metadata": {},
   "outputs": [
    {
     "name": "stdout",
     "output_type": "stream",
     "text": [
      "<class 'pandas.core.frame.DataFrame'>\n",
      "Int64Index: 1814 entries, 0 to 1813\n",
      "Data columns (total 9 columns):\n",
      " #   Column               Non-Null Count  Dtype         \n",
      "---  ------               --------------  -----         \n",
      " 0   createdAt            1814 non-null   datetime64[ns]\n",
      " 1   platformCode         1814 non-null   object        \n",
      " 2   channelCode          1814 non-null   object        \n",
      " 3   marketingInvestment  1814 non-null   float64       \n",
      " 4   impressions          1814 non-null   int64         \n",
      " 5   clicks               1814 non-null   int64         \n",
      " 6   visits               1814 non-null   int64         \n",
      " 7   conversions          1814 non-null   int64         \n",
      " 8   deliveries           1814 non-null   int64         \n",
      "dtypes: datetime64[ns](1), float64(1), int64(5), object(2)\n",
      "memory usage: 141.7+ KB\n"
     ]
    }
   ],
   "source": [
    "marketing.info()"
   ]
  },
  {
   "cell_type": "code",
   "execution_count": 16,
   "metadata": {},
   "outputs": [],
   "source": [
    "data = marketing.merge(revenue, on = ['createdAt', 'platformCode','channelCode'], how = 'outer')"
   ]
  },
  {
   "cell_type": "code",
   "execution_count": 17,
   "metadata": {},
   "outputs": [
    {
     "name": "stdout",
     "output_type": "stream",
     "text": [
      "<class 'pandas.core.frame.DataFrame'>\n",
      "Int64Index: 2136 entries, 0 to 2135\n",
      "Data columns (total 10 columns):\n",
      " #   Column               Non-Null Count  Dtype         \n",
      "---  ------               --------------  -----         \n",
      " 0   createdAt            2136 non-null   datetime64[ns]\n",
      " 1   platformCode         2136 non-null   object        \n",
      " 2   channelCode          2136 non-null   object        \n",
      " 3   marketingInvestment  1814 non-null   float64       \n",
      " 4   impressions          1814 non-null   float64       \n",
      " 5   clicks               1814 non-null   float64       \n",
      " 6   visits               1814 non-null   float64       \n",
      " 7   conversions          1814 non-null   float64       \n",
      " 8   deliveries           1814 non-null   float64       \n",
      " 9   revenue              1061 non-null   float64       \n",
      "dtypes: datetime64[ns](1), float64(7), object(2)\n",
      "memory usage: 183.6+ KB\n"
     ]
    }
   ],
   "source": [
    "data.info()"
   ]
  },
  {
   "cell_type": "code",
   "execution_count": 18,
   "metadata": {},
   "outputs": [
    {
     "data": {
      "text/html": [
       "<div>\n",
       "<style scoped>\n",
       "    .dataframe tbody tr th:only-of-type {\n",
       "        vertical-align: middle;\n",
       "    }\n",
       "\n",
       "    .dataframe tbody tr th {\n",
       "        vertical-align: top;\n",
       "    }\n",
       "\n",
       "    .dataframe thead th {\n",
       "        text-align: right;\n",
       "    }\n",
       "</style>\n",
       "<table border=\"1\" class=\"dataframe\">\n",
       "  <thead>\n",
       "    <tr style=\"text-align: right;\">\n",
       "      <th></th>\n",
       "      <th>createdAt</th>\n",
       "      <th>platformCode</th>\n",
       "      <th>channelCode</th>\n",
       "      <th>marketingInvestment</th>\n",
       "      <th>impressions</th>\n",
       "      <th>clicks</th>\n",
       "      <th>visits</th>\n",
       "      <th>conversions</th>\n",
       "      <th>deliveries</th>\n",
       "      <th>revenue</th>\n",
       "    </tr>\n",
       "  </thead>\n",
       "  <tbody>\n",
       "    <tr>\n",
       "      <th>0</th>\n",
       "      <td>2020-01-02</td>\n",
       "      <td>AdWords</td>\n",
       "      <td>adwords_bra</td>\n",
       "      <td>167.09</td>\n",
       "      <td>408.0</td>\n",
       "      <td>266.0</td>\n",
       "      <td>306.0</td>\n",
       "      <td>4.0</td>\n",
       "      <td>4.0</td>\n",
       "      <td>5581.0</td>\n",
       "    </tr>\n",
       "    <tr>\n",
       "      <th>1</th>\n",
       "      <td>2020-01-02</td>\n",
       "      <td>AdWords</td>\n",
       "      <td>adwords_dsa</td>\n",
       "      <td>31.06</td>\n",
       "      <td>370.0</td>\n",
       "      <td>12.0</td>\n",
       "      <td>11.0</td>\n",
       "      <td>0.0</td>\n",
       "      <td>0.0</td>\n",
       "      <td>NaN</td>\n",
       "    </tr>\n",
       "    <tr>\n",
       "      <th>2</th>\n",
       "      <td>2020-01-02</td>\n",
       "      <td>AdWords</td>\n",
       "      <td>adwords_pla</td>\n",
       "      <td>10868.92</td>\n",
       "      <td>191564.0</td>\n",
       "      <td>2609.0</td>\n",
       "      <td>2667.0</td>\n",
       "      <td>27.0</td>\n",
       "      <td>27.0</td>\n",
       "      <td>60605.0</td>\n",
       "    </tr>\n",
       "    <tr>\n",
       "      <th>3</th>\n",
       "      <td>2020-01-02</td>\n",
       "      <td>AdWords</td>\n",
       "      <td>adwords_rem</td>\n",
       "      <td>762.06</td>\n",
       "      <td>24668.0</td>\n",
       "      <td>386.0</td>\n",
       "      <td>429.0</td>\n",
       "      <td>3.0</td>\n",
       "      <td>3.0</td>\n",
       "      <td>2681.0</td>\n",
       "    </tr>\n",
       "    <tr>\n",
       "      <th>4</th>\n",
       "      <td>2020-01-02</td>\n",
       "      <td>AdWords</td>\n",
       "      <td>adwords_sea</td>\n",
       "      <td>41.59</td>\n",
       "      <td>531.0</td>\n",
       "      <td>26.0</td>\n",
       "      <td>36.0</td>\n",
       "      <td>0.0</td>\n",
       "      <td>0.0</td>\n",
       "      <td>NaN</td>\n",
       "    </tr>\n",
       "    <tr>\n",
       "      <th>5</th>\n",
       "      <td>2020-01-02</td>\n",
       "      <td>FirmyCz</td>\n",
       "      <td>zbozi</td>\n",
       "      <td>80.54</td>\n",
       "      <td>600.0</td>\n",
       "      <td>4.0</td>\n",
       "      <td>2.0</td>\n",
       "      <td>0.0</td>\n",
       "      <td>0.0</td>\n",
       "      <td>NaN</td>\n",
       "    </tr>\n",
       "    <tr>\n",
       "      <th>6</th>\n",
       "      <td>2020-01-02</td>\n",
       "      <td>HeurekaCz</td>\n",
       "      <td>heureka</td>\n",
       "      <td>262.39</td>\n",
       "      <td>0.0</td>\n",
       "      <td>52.0</td>\n",
       "      <td>69.0</td>\n",
       "      <td>3.0</td>\n",
       "      <td>3.0</td>\n",
       "      <td>15131.0</td>\n",
       "    </tr>\n",
       "    <tr>\n",
       "      <th>7</th>\n",
       "      <td>2020-01-02</td>\n",
       "      <td>Not tracked</td>\n",
       "      <td>notset</td>\n",
       "      <td>0.00</td>\n",
       "      <td>0.0</td>\n",
       "      <td>0.0</td>\n",
       "      <td>0.0</td>\n",
       "      <td>16.0</td>\n",
       "      <td>14.0</td>\n",
       "      <td>NaN</td>\n",
       "    </tr>\n",
       "    <tr>\n",
       "      <th>8</th>\n",
       "      <td>2020-01-02</td>\n",
       "      <td>RtbHouse</td>\n",
       "      <td>rtbhouse</td>\n",
       "      <td>92.40</td>\n",
       "      <td>0.0</td>\n",
       "      <td>0.0</td>\n",
       "      <td>63.0</td>\n",
       "      <td>1.0</td>\n",
       "      <td>1.0</td>\n",
       "      <td>1082.0</td>\n",
       "    </tr>\n",
       "    <tr>\n",
       "      <th>9</th>\n",
       "      <td>2020-01-02</td>\n",
       "      <td>Silverpop</td>\n",
       "      <td>emailing</td>\n",
       "      <td>1290.32</td>\n",
       "      <td>0.0</td>\n",
       "      <td>0.0</td>\n",
       "      <td>1824.0</td>\n",
       "      <td>23.0</td>\n",
       "      <td>23.0</td>\n",
       "      <td>53613.0</td>\n",
       "    </tr>\n",
       "  </tbody>\n",
       "</table>\n",
       "</div>"
      ],
      "text/plain": [
       "   createdAt platformCode  channelCode  marketingInvestment  impressions  \\\n",
       "0 2020-01-02      AdWords  adwords_bra               167.09        408.0   \n",
       "1 2020-01-02      AdWords  adwords_dsa                31.06        370.0   \n",
       "2 2020-01-02      AdWords  adwords_pla             10868.92     191564.0   \n",
       "3 2020-01-02      AdWords  adwords_rem               762.06      24668.0   \n",
       "4 2020-01-02      AdWords  adwords_sea                41.59        531.0   \n",
       "5 2020-01-02      FirmyCz        zbozi                80.54        600.0   \n",
       "6 2020-01-02    HeurekaCz      heureka               262.39          0.0   \n",
       "7 2020-01-02  Not tracked       notset                 0.00          0.0   \n",
       "8 2020-01-02     RtbHouse     rtbhouse                92.40          0.0   \n",
       "9 2020-01-02    Silverpop     emailing              1290.32          0.0   \n",
       "\n",
       "   clicks  visits  conversions  deliveries  revenue  \n",
       "0   266.0   306.0          4.0         4.0   5581.0  \n",
       "1    12.0    11.0          0.0         0.0      NaN  \n",
       "2  2609.0  2667.0         27.0        27.0  60605.0  \n",
       "3   386.0   429.0          3.0         3.0   2681.0  \n",
       "4    26.0    36.0          0.0         0.0      NaN  \n",
       "5     4.0     2.0          0.0         0.0      NaN  \n",
       "6    52.0    69.0          3.0         3.0  15131.0  \n",
       "7     0.0     0.0         16.0        14.0      NaN  \n",
       "8     0.0    63.0          1.0         1.0   1082.0  \n",
       "9     0.0  1824.0         23.0        23.0  53613.0  "
      ]
     },
     "execution_count": 18,
     "metadata": {},
     "output_type": "execute_result"
    }
   ],
   "source": [
    "data.head(10)"
   ]
  },
  {
   "cell_type": "code",
   "execution_count": 19,
   "metadata": {},
   "outputs": [
    {
     "data": {
      "text/plain": [
       "20297143.0"
      ]
     },
     "execution_count": 19,
     "metadata": {},
     "output_type": "execute_result"
    }
   ],
   "source": [
    "revenue['revenue'].sum()"
   ]
  },
  {
   "cell_type": "code",
   "execution_count": 20,
   "metadata": {},
   "outputs": [
    {
     "data": {
      "text/plain": [
       "20297143.0"
      ]
     },
     "execution_count": 20,
     "metadata": {},
     "output_type": "execute_result"
    }
   ],
   "source": [
    "data['revenue'].sum()"
   ]
  },
  {
   "cell_type": "code",
   "execution_count": 21,
   "metadata": {},
   "outputs": [
    {
     "data": {
      "text/plain": [
       "\"data['impressions'] = data['impressions'].astype(int)\\ndata['clicks'] = data['clicks'].astype(int)\\ndata['visits'] = data['visits'].astype(int)\\ndata['conversions'] = data['conversions'].astype(int)\\ndata['deliveries'] = data['deliveries'].astype(int)\""
      ]
     },
     "execution_count": 21,
     "metadata": {},
     "output_type": "execute_result"
    }
   ],
   "source": [
    "'''data['impressions'] = data['impressions'].astype(int)\n",
    "data['clicks'] = data['clicks'].astype(int)\n",
    "data['visits'] = data['visits'].astype(int)\n",
    "data['conversions'] = data['conversions'].astype(int)\n",
    "data['deliveries'] = data['deliveries'].astype(int)'''"
   ]
  },
  {
   "cell_type": "code",
   "execution_count": 22,
   "metadata": {},
   "outputs": [
    {
     "data": {
      "text/plain": [
       "'2020-01-02 to 2020-03-25'"
      ]
     },
     "execution_count": 22,
     "metadata": {},
     "output_type": "execute_result"
    }
   ],
   "source": [
    "date_range = str(data['createdAt'].dt.date.min()) + ' to ' +str(data['createdAt'].dt.date.max())\n",
    "date_range"
   ]
  },
  {
   "cell_type": "code",
   "execution_count": 23,
   "metadata": {},
   "outputs": [],
   "source": [
    "data.to_csv(\"joinedData.csv\")"
   ]
  },
  {
   "cell_type": "code",
   "execution_count": 24,
   "metadata": {},
   "outputs": [],
   "source": [
    "marketing['clickThroughRate'] = marketing['clicks']/marketing['impressions']"
   ]
  },
  {
   "cell_type": "code",
   "execution_count": 25,
   "metadata": {},
   "outputs": [],
   "source": [
    "byPlatform = marketing.drop(['channelCode', 'clickThroughRate', 'createdAt'], axis=1)"
   ]
  },
  {
   "cell_type": "code",
   "execution_count": 26,
   "metadata": {},
   "outputs": [
    {
     "name": "stderr",
     "output_type": "stream",
     "text": [
      "<ipython-input-26-cd189cc5befd>:1: FutureWarning: Indexing with multiple keys (implicitly converted to a tuple of keys) will be deprecated, use a list instead.\n",
      "  byPlatform = byPlatform.groupby(['platformCode'])['marketingInvestment', 'impressions', 'clicks', 'visits', 'conversions','deliveries'].sum()\n"
     ]
    }
   ],
   "source": [
    "byPlatform = byPlatform.groupby(['platformCode'])['marketingInvestment', 'impressions', 'clicks', 'visits', 'conversions','deliveries'].sum()"
   ]
  },
  {
   "cell_type": "code",
   "execution_count": 27,
   "metadata": {},
   "outputs": [
    {
     "data": {
      "text/html": [
       "<div>\n",
       "<style scoped>\n",
       "    .dataframe tbody tr th:only-of-type {\n",
       "        vertical-align: middle;\n",
       "    }\n",
       "\n",
       "    .dataframe tbody tr th {\n",
       "        vertical-align: top;\n",
       "    }\n",
       "\n",
       "    .dataframe thead th {\n",
       "        text-align: right;\n",
       "    }\n",
       "</style>\n",
       "<table border=\"1\" class=\"dataframe\">\n",
       "  <thead>\n",
       "    <tr style=\"text-align: right;\">\n",
       "      <th></th>\n",
       "      <th>marketingInvestment</th>\n",
       "      <th>impressions</th>\n",
       "      <th>clicks</th>\n",
       "      <th>visits</th>\n",
       "      <th>conversions</th>\n",
       "      <th>deliveries</th>\n",
       "    </tr>\n",
       "    <tr>\n",
       "      <th>platformCode</th>\n",
       "      <th></th>\n",
       "      <th></th>\n",
       "      <th></th>\n",
       "      <th></th>\n",
       "      <th></th>\n",
       "      <th></th>\n",
       "    </tr>\n",
       "  </thead>\n",
       "  <tbody>\n",
       "    <tr>\n",
       "      <th>AdWords</th>\n",
       "      <td>852549.40</td>\n",
       "      <td>16667747</td>\n",
       "      <td>226106</td>\n",
       "      <td>237503</td>\n",
       "      <td>2887</td>\n",
       "      <td>2803</td>\n",
       "    </tr>\n",
       "    <tr>\n",
       "      <th>Adform</th>\n",
       "      <td>0.00</td>\n",
       "      <td>0</td>\n",
       "      <td>1</td>\n",
       "      <td>4</td>\n",
       "      <td>0</td>\n",
       "      <td>0</td>\n",
       "    </tr>\n",
       "    <tr>\n",
       "      <th>Bing</th>\n",
       "      <td>0.00</td>\n",
       "      <td>0</td>\n",
       "      <td>0</td>\n",
       "      <td>3</td>\n",
       "      <td>0</td>\n",
       "      <td>0</td>\n",
       "    </tr>\n",
       "    <tr>\n",
       "      <th>FacebookBusinessAdsManager</th>\n",
       "      <td>8849.97</td>\n",
       "      <td>437780</td>\n",
       "      <td>9433</td>\n",
       "      <td>0</td>\n",
       "      <td>0</td>\n",
       "      <td>0</td>\n",
       "    </tr>\n",
       "    <tr>\n",
       "      <th>FirmyCz</th>\n",
       "      <td>6684.82</td>\n",
       "      <td>58330</td>\n",
       "      <td>324</td>\n",
       "      <td>158</td>\n",
       "      <td>2</td>\n",
       "      <td>2</td>\n",
       "    </tr>\n",
       "  </tbody>\n",
       "</table>\n",
       "</div>"
      ],
      "text/plain": [
       "                            marketingInvestment  impressions  clicks  visits  \\\n",
       "platformCode                                                                   \n",
       "AdWords                               852549.40     16667747  226106  237503   \n",
       "Adform                                     0.00            0       1       4   \n",
       "Bing                                       0.00            0       0       3   \n",
       "FacebookBusinessAdsManager              8849.97       437780    9433       0   \n",
       "FirmyCz                                 6684.82        58330     324     158   \n",
       "\n",
       "                            conversions  deliveries  \n",
       "platformCode                                         \n",
       "AdWords                            2887        2803  \n",
       "Adform                                0           0  \n",
       "Bing                                  0           0  \n",
       "FacebookBusinessAdsManager            0           0  \n",
       "FirmyCz                               2           2  "
      ]
     },
     "execution_count": 27,
     "metadata": {},
     "output_type": "execute_result"
    }
   ],
   "source": [
    "byPlatform.head()"
   ]
  },
  {
   "cell_type": "code",
   "execution_count": 28,
   "metadata": {},
   "outputs": [],
   "source": [
    "byPlatform = byPlatform.reset_index()"
   ]
  },
  {
   "cell_type": "code",
   "execution_count": 29,
   "metadata": {},
   "outputs": [
    {
     "data": {
      "text/html": [
       "<div>\n",
       "<style scoped>\n",
       "    .dataframe tbody tr th:only-of-type {\n",
       "        vertical-align: middle;\n",
       "    }\n",
       "\n",
       "    .dataframe tbody tr th {\n",
       "        vertical-align: top;\n",
       "    }\n",
       "\n",
       "    .dataframe thead th {\n",
       "        text-align: right;\n",
       "    }\n",
       "</style>\n",
       "<table border=\"1\" class=\"dataframe\">\n",
       "  <thead>\n",
       "    <tr style=\"text-align: right;\">\n",
       "      <th></th>\n",
       "      <th>platformCode</th>\n",
       "      <th>marketingInvestment</th>\n",
       "      <th>impressions</th>\n",
       "      <th>clicks</th>\n",
       "      <th>visits</th>\n",
       "      <th>conversions</th>\n",
       "      <th>deliveries</th>\n",
       "    </tr>\n",
       "  </thead>\n",
       "  <tbody>\n",
       "    <tr>\n",
       "      <th>0</th>\n",
       "      <td>AdWords</td>\n",
       "      <td>852549.40</td>\n",
       "      <td>16667747</td>\n",
       "      <td>226106</td>\n",
       "      <td>237503</td>\n",
       "      <td>2887</td>\n",
       "      <td>2803</td>\n",
       "    </tr>\n",
       "    <tr>\n",
       "      <th>1</th>\n",
       "      <td>Adform</td>\n",
       "      <td>0.00</td>\n",
       "      <td>0</td>\n",
       "      <td>1</td>\n",
       "      <td>4</td>\n",
       "      <td>0</td>\n",
       "      <td>0</td>\n",
       "    </tr>\n",
       "    <tr>\n",
       "      <th>2</th>\n",
       "      <td>Bing</td>\n",
       "      <td>0.00</td>\n",
       "      <td>0</td>\n",
       "      <td>0</td>\n",
       "      <td>3</td>\n",
       "      <td>0</td>\n",
       "      <td>0</td>\n",
       "    </tr>\n",
       "    <tr>\n",
       "      <th>3</th>\n",
       "      <td>FacebookBusinessAdsManager</td>\n",
       "      <td>8849.97</td>\n",
       "      <td>437780</td>\n",
       "      <td>9433</td>\n",
       "      <td>0</td>\n",
       "      <td>0</td>\n",
       "      <td>0</td>\n",
       "    </tr>\n",
       "    <tr>\n",
       "      <th>4</th>\n",
       "      <td>FirmyCz</td>\n",
       "      <td>6684.82</td>\n",
       "      <td>58330</td>\n",
       "      <td>324</td>\n",
       "      <td>158</td>\n",
       "      <td>2</td>\n",
       "      <td>2</td>\n",
       "    </tr>\n",
       "  </tbody>\n",
       "</table>\n",
       "</div>"
      ],
      "text/plain": [
       "                 platformCode  marketingInvestment  impressions  clicks  \\\n",
       "0                     AdWords            852549.40     16667747  226106   \n",
       "1                      Adform                 0.00            0       1   \n",
       "2                        Bing                 0.00            0       0   \n",
       "3  FacebookBusinessAdsManager              8849.97       437780    9433   \n",
       "4                     FirmyCz              6684.82        58330     324   \n",
       "\n",
       "   visits  conversions  deliveries  \n",
       "0  237503         2887        2803  \n",
       "1       4            0           0  \n",
       "2       3            0           0  \n",
       "3       0            0           0  \n",
       "4     158            2           2  "
      ]
     },
     "execution_count": 29,
     "metadata": {},
     "output_type": "execute_result"
    }
   ],
   "source": [
    "byPlatform.head()"
   ]
  },
  {
   "cell_type": "code",
   "execution_count": 30,
   "metadata": {},
   "outputs": [],
   "source": [
    "byPlatform['conversionRate'] = byPlatform['conversions']/byPlatform['visits']"
   ]
  },
  {
   "cell_type": "code",
   "execution_count": 31,
   "metadata": {},
   "outputs": [
    {
     "data": {
      "text/html": [
       "<div>\n",
       "<style scoped>\n",
       "    .dataframe tbody tr th:only-of-type {\n",
       "        vertical-align: middle;\n",
       "    }\n",
       "\n",
       "    .dataframe tbody tr th {\n",
       "        vertical-align: top;\n",
       "    }\n",
       "\n",
       "    .dataframe thead th {\n",
       "        text-align: right;\n",
       "    }\n",
       "</style>\n",
       "<table border=\"1\" class=\"dataframe\">\n",
       "  <thead>\n",
       "    <tr style=\"text-align: right;\">\n",
       "      <th></th>\n",
       "      <th>platformCode</th>\n",
       "      <th>marketingInvestment</th>\n",
       "      <th>impressions</th>\n",
       "      <th>clicks</th>\n",
       "      <th>visits</th>\n",
       "      <th>conversions</th>\n",
       "      <th>deliveries</th>\n",
       "      <th>conversionRate</th>\n",
       "    </tr>\n",
       "  </thead>\n",
       "  <tbody>\n",
       "    <tr>\n",
       "      <th>0</th>\n",
       "      <td>AdWords</td>\n",
       "      <td>852549.40</td>\n",
       "      <td>16667747</td>\n",
       "      <td>226106</td>\n",
       "      <td>237503</td>\n",
       "      <td>2887</td>\n",
       "      <td>2803</td>\n",
       "      <td>0.012156</td>\n",
       "    </tr>\n",
       "    <tr>\n",
       "      <th>1</th>\n",
       "      <td>Adform</td>\n",
       "      <td>0.00</td>\n",
       "      <td>0</td>\n",
       "      <td>1</td>\n",
       "      <td>4</td>\n",
       "      <td>0</td>\n",
       "      <td>0</td>\n",
       "      <td>0.000000</td>\n",
       "    </tr>\n",
       "    <tr>\n",
       "      <th>2</th>\n",
       "      <td>Bing</td>\n",
       "      <td>0.00</td>\n",
       "      <td>0</td>\n",
       "      <td>0</td>\n",
       "      <td>3</td>\n",
       "      <td>0</td>\n",
       "      <td>0</td>\n",
       "      <td>0.000000</td>\n",
       "    </tr>\n",
       "    <tr>\n",
       "      <th>3</th>\n",
       "      <td>FacebookBusinessAdsManager</td>\n",
       "      <td>8849.97</td>\n",
       "      <td>437780</td>\n",
       "      <td>9433</td>\n",
       "      <td>0</td>\n",
       "      <td>0</td>\n",
       "      <td>0</td>\n",
       "      <td>NaN</td>\n",
       "    </tr>\n",
       "    <tr>\n",
       "      <th>4</th>\n",
       "      <td>FirmyCz</td>\n",
       "      <td>6684.82</td>\n",
       "      <td>58330</td>\n",
       "      <td>324</td>\n",
       "      <td>158</td>\n",
       "      <td>2</td>\n",
       "      <td>2</td>\n",
       "      <td>0.012658</td>\n",
       "    </tr>\n",
       "    <tr>\n",
       "      <th>5</th>\n",
       "      <td>HeurekaCz</td>\n",
       "      <td>10647.19</td>\n",
       "      <td>0</td>\n",
       "      <td>2620</td>\n",
       "      <td>3923</td>\n",
       "      <td>101</td>\n",
       "      <td>99</td>\n",
       "      <td>0.025746</td>\n",
       "    </tr>\n",
       "    <tr>\n",
       "      <th>6</th>\n",
       "      <td>Not tracked</td>\n",
       "      <td>0.00</td>\n",
       "      <td>0</td>\n",
       "      <td>0</td>\n",
       "      <td>0</td>\n",
       "      <td>1266</td>\n",
       "      <td>1141</td>\n",
       "      <td>inf</td>\n",
       "    </tr>\n",
       "    <tr>\n",
       "      <th>7</th>\n",
       "      <td>RtbHouse</td>\n",
       "      <td>132249.40</td>\n",
       "      <td>2844232</td>\n",
       "      <td>66618</td>\n",
       "      <td>47593</td>\n",
       "      <td>379</td>\n",
       "      <td>347</td>\n",
       "      <td>0.007963</td>\n",
       "    </tr>\n",
       "    <tr>\n",
       "      <th>8</th>\n",
       "      <td>Silverpop</td>\n",
       "      <td>107096.63</td>\n",
       "      <td>0</td>\n",
       "      <td>0</td>\n",
       "      <td>107919</td>\n",
       "      <td>1719</td>\n",
       "      <td>1654</td>\n",
       "      <td>0.015929</td>\n",
       "    </tr>\n",
       "    <tr>\n",
       "      <th>9</th>\n",
       "      <td>Sklik</td>\n",
       "      <td>63368.63</td>\n",
       "      <td>1570740</td>\n",
       "      <td>27423</td>\n",
       "      <td>29991</td>\n",
       "      <td>571</td>\n",
       "      <td>547</td>\n",
       "      <td>0.019039</td>\n",
       "    </tr>\n",
       "    <tr>\n",
       "      <th>10</th>\n",
       "      <td>ZboziCz</td>\n",
       "      <td>46411.61</td>\n",
       "      <td>269171</td>\n",
       "      <td>8423</td>\n",
       "      <td>6418</td>\n",
       "      <td>95</td>\n",
       "      <td>85</td>\n",
       "      <td>0.014802</td>\n",
       "    </tr>\n",
       "    <tr>\n",
       "      <th>11</th>\n",
       "      <td>unpaid</td>\n",
       "      <td>0.00</td>\n",
       "      <td>0</td>\n",
       "      <td>0</td>\n",
       "      <td>141169</td>\n",
       "      <td>1533</td>\n",
       "      <td>1438</td>\n",
       "      <td>0.010859</td>\n",
       "    </tr>\n",
       "  </tbody>\n",
       "</table>\n",
       "</div>"
      ],
      "text/plain": [
       "                  platformCode  marketingInvestment  impressions  clicks  \\\n",
       "0                      AdWords            852549.40     16667747  226106   \n",
       "1                       Adform                 0.00            0       1   \n",
       "2                         Bing                 0.00            0       0   \n",
       "3   FacebookBusinessAdsManager              8849.97       437780    9433   \n",
       "4                      FirmyCz              6684.82        58330     324   \n",
       "5                    HeurekaCz             10647.19            0    2620   \n",
       "6                  Not tracked                 0.00            0       0   \n",
       "7                     RtbHouse            132249.40      2844232   66618   \n",
       "8                    Silverpop            107096.63            0       0   \n",
       "9                        Sklik             63368.63      1570740   27423   \n",
       "10                     ZboziCz             46411.61       269171    8423   \n",
       "11                      unpaid                 0.00            0       0   \n",
       "\n",
       "    visits  conversions  deliveries  conversionRate  \n",
       "0   237503         2887        2803        0.012156  \n",
       "1        4            0           0        0.000000  \n",
       "2        3            0           0        0.000000  \n",
       "3        0            0           0             NaN  \n",
       "4      158            2           2        0.012658  \n",
       "5     3923          101          99        0.025746  \n",
       "6        0         1266        1141             inf  \n",
       "7    47593          379         347        0.007963  \n",
       "8   107919         1719        1654        0.015929  \n",
       "9    29991          571         547        0.019039  \n",
       "10    6418           95          85        0.014802  \n",
       "11  141169         1533        1438        0.010859  "
      ]
     },
     "execution_count": 31,
     "metadata": {},
     "output_type": "execute_result"
    }
   ],
   "source": [
    "byPlatform"
   ]
  },
  {
   "cell_type": "code",
   "execution_count": 32,
   "metadata": {},
   "outputs": [],
   "source": [
    "#revPlatform = revenue.drop('createdAt').groupby(plat)"
   ]
  },
  {
   "cell_type": "markdown",
   "metadata": {},
   "source": [
    "# DATA VIZ"
   ]
  },
  {
   "cell_type": "code",
   "execution_count": 33,
   "metadata": {},
   "outputs": [
    {
     "data": {
      "text/plain": [
       "<matplotlib.colors.ListedColormap at 0x283105f16a0>"
      ]
     },
     "execution_count": 33,
     "metadata": {},
     "output_type": "execute_result"
    }
   ],
   "source": [
    "sns.set_style('darkgrid')\n",
    "sns.color_palette('flare', as_cmap = True)"
   ]
  },
  {
   "cell_type": "code",
   "execution_count": 34,
   "metadata": {},
   "outputs": [
    {
     "name": "stderr",
     "output_type": "stream",
     "text": [
      "c:\\Users\\HP\\Anaconda3\\lib\\site-packages\\seaborn\\_decorators.py:36: FutureWarning: Pass the following variables as keyword args: x, y. From version 0.12, the only valid positional argument will be `data`, and passing other arguments without an explicit keyword will result in an error or misinterpretation.\n",
      "  warnings.warn(\n",
      "c:\\Users\\HP\\Anaconda3\\lib\\site-packages\\seaborn\\_decorators.py:36: FutureWarning: Pass the following variables as keyword args: x, y. From version 0.12, the only valid positional argument will be `data`, and passing other arguments without an explicit keyword will result in an error or misinterpretation.\n",
      "  warnings.warn(\n"
     ]
    },
    {
     "data": {
      "text/plain": [
       "[]"
      ]
     },
     "execution_count": 34,
     "metadata": {},
     "output_type": "execute_result"
    },
    {
     "data": {
      "image/png": "[encoded data removed]",
      "text/plain": [
       "<Figure size 720x504 with 1 Axes>"
      ]
     },
     "metadata": {},
     "output_type": "display_data"
    }
   ],
   "source": [
    "plt.figure(figsize = (10, 7))\n",
    "inv = sns.lineplot(data['createdAt'], data['marketingInvestment'], legend = True)\n",
    "rev = sns.lineplot(data['createdAt'], data['revenue'], legend = True)\n",
    "#plt.legend({rev : 'rev', inv :'inv'})\n",
    "plt.plot()"
   ]
  },
  {
   "cell_type": "markdown",
   "metadata": {},
   "source": [
    "# A/B TESTS"
   ]
  },
  {
   "cell_type": "code",
   "execution_count": 35,
   "metadata": {},
   "outputs": [],
   "source": [
    "import sys\n",
    "sys.path.insert(0, 'C:\\\\Users\\\\HP\\Downloads\\\\mybooks\\\\project\\\\ads-proj\\\\ad-sales-ml-proj\\\\modules')"
   ]
  },
  {
   "cell_type": "code",
   "execution_count": 36,
   "metadata": {},
   "outputs": [],
   "source": [
    "from anova import *"
   ]
  },
  {
   "cell_type": "code",
   "execution_count": 37,
   "metadata": {},
   "outputs": [],
   "source": [
    "# distribution of conversion rates"
   ]
  },
  {
   "cell_type": "code",
   "execution_count": null,
   "metadata": {},
   "outputs": [],
   "source": []
  },
  {
   "cell_type": "markdown",
   "metadata": {},
   "source": [
    "CHI-SQUARE ANALYSIS OF CONVERSION PER PLATFORM"
   ]
  },
  {
   "cell_type": "code",
   "execution_count": 38,
   "metadata": {},
   "outputs": [],
   "source": [
    "\n",
    "sys.path.insert(1,'C:\\\\Users\\\\HP\\\\Downloads\\\\mybooks\\\\project\\\\ads-proj\\\\ad-sales-ml-proj\\\\modules' )"
   ]
  },
  {
   "cell_type": "code",
   "execution_count": 39,
   "metadata": {},
   "outputs": [],
   "source": [
    "from chisquare import *"
   ]
  },
  {
   "cell_type": "code",
   "execution_count": 40,
   "metadata": {},
   "outputs": [],
   "source": [
    "total_interactions = sum(byPlatform['visits'])\n",
    "total_conversions = sum(byPlatform['conversions'])"
   ]
  },
  {
   "cell_type": "code",
   "execution_count": 41,
   "metadata": {},
   "outputs": [],
   "source": [
    "byPlatform['expected'] = total_conversions/byPlatform['platformCode'].nunique()"
   ]
  },
  {
   "cell_type": "code",
   "execution_count": 42,
   "metadata": {},
   "outputs": [
    {
     "data": {
      "text/html": [
       "<div>\n",
       "<style scoped>\n",
       "    .dataframe tbody tr th:only-of-type {\n",
       "        vertical-align: middle;\n",
       "    }\n",
       "\n",
       "    .dataframe tbody tr th {\n",
       "        vertical-align: top;\n",
       "    }\n",
       "\n",
       "    .dataframe thead th {\n",
       "        text-align: right;\n",
       "    }\n",
       "</style>\n",
       "<table border=\"1\" class=\"dataframe\">\n",
       "  <thead>\n",
       "    <tr style=\"text-align: right;\">\n",
       "      <th></th>\n",
       "      <th>platformCode</th>\n",
       "      <th>marketingInvestment</th>\n",
       "      <th>impressions</th>\n",
       "      <th>clicks</th>\n",
       "      <th>visits</th>\n",
       "      <th>conversions</th>\n",
       "      <th>deliveries</th>\n",
       "      <th>conversionRate</th>\n",
       "      <th>expected</th>\n",
       "    </tr>\n",
       "  </thead>\n",
       "  <tbody>\n",
       "    <tr>\n",
       "      <th>0</th>\n",
       "      <td>AdWords</td>\n",
       "      <td>852549.40</td>\n",
       "      <td>16667747</td>\n",
       "      <td>226106</td>\n",
       "      <td>237503</td>\n",
       "      <td>2887</td>\n",
       "      <td>2803</td>\n",
       "      <td>0.012156</td>\n",
       "      <td>712.75</td>\n",
       "    </tr>\n",
       "    <tr>\n",
       "      <th>1</th>\n",
       "      <td>Adform</td>\n",
       "      <td>0.00</td>\n",
       "      <td>0</td>\n",
       "      <td>1</td>\n",
       "      <td>4</td>\n",
       "      <td>0</td>\n",
       "      <td>0</td>\n",
       "      <td>0.000000</td>\n",
       "      <td>712.75</td>\n",
       "    </tr>\n",
       "    <tr>\n",
       "      <th>2</th>\n",
       "      <td>Bing</td>\n",
       "      <td>0.00</td>\n",
       "      <td>0</td>\n",
       "      <td>0</td>\n",
       "      <td>3</td>\n",
       "      <td>0</td>\n",
       "      <td>0</td>\n",
       "      <td>0.000000</td>\n",
       "      <td>712.75</td>\n",
       "    </tr>\n",
       "    <tr>\n",
       "      <th>3</th>\n",
       "      <td>FacebookBusinessAdsManager</td>\n",
       "      <td>8849.97</td>\n",
       "      <td>437780</td>\n",
       "      <td>9433</td>\n",
       "      <td>0</td>\n",
       "      <td>0</td>\n",
       "      <td>0</td>\n",
       "      <td>NaN</td>\n",
       "      <td>712.75</td>\n",
       "    </tr>\n",
       "    <tr>\n",
       "      <th>4</th>\n",
       "      <td>FirmyCz</td>\n",
       "      <td>6684.82</td>\n",
       "      <td>58330</td>\n",
       "      <td>324</td>\n",
       "      <td>158</td>\n",
       "      <td>2</td>\n",
       "      <td>2</td>\n",
       "      <td>0.012658</td>\n",
       "      <td>712.75</td>\n",
       "    </tr>\n",
       "    <tr>\n",
       "      <th>5</th>\n",
       "      <td>HeurekaCz</td>\n",
       "      <td>10647.19</td>\n",
       "      <td>0</td>\n",
       "      <td>2620</td>\n",
       "      <td>3923</td>\n",
       "      <td>101</td>\n",
       "      <td>99</td>\n",
       "      <td>0.025746</td>\n",
       "      <td>712.75</td>\n",
       "    </tr>\n",
       "    <tr>\n",
       "      <th>6</th>\n",
       "      <td>Not tracked</td>\n",
       "      <td>0.00</td>\n",
       "      <td>0</td>\n",
       "      <td>0</td>\n",
       "      <td>0</td>\n",
       "      <td>1266</td>\n",
       "      <td>1141</td>\n",
       "      <td>inf</td>\n",
       "      <td>712.75</td>\n",
       "    </tr>\n",
       "    <tr>\n",
       "      <th>7</th>\n",
       "      <td>RtbHouse</td>\n",
       "      <td>132249.40</td>\n",
       "      <td>2844232</td>\n",
       "      <td>66618</td>\n",
       "      <td>47593</td>\n",
       "      <td>379</td>\n",
       "      <td>347</td>\n",
       "      <td>0.007963</td>\n",
       "      <td>712.75</td>\n",
       "    </tr>\n",
       "    <tr>\n",
       "      <th>8</th>\n",
       "      <td>Silverpop</td>\n",
       "      <td>107096.63</td>\n",
       "      <td>0</td>\n",
       "      <td>0</td>\n",
       "      <td>107919</td>\n",
       "      <td>1719</td>\n",
       "      <td>1654</td>\n",
       "      <td>0.015929</td>\n",
       "      <td>712.75</td>\n",
       "    </tr>\n",
       "    <tr>\n",
       "      <th>9</th>\n",
       "      <td>Sklik</td>\n",
       "      <td>63368.63</td>\n",
       "      <td>1570740</td>\n",
       "      <td>27423</td>\n",
       "      <td>29991</td>\n",
       "      <td>571</td>\n",
       "      <td>547</td>\n",
       "      <td>0.019039</td>\n",
       "      <td>712.75</td>\n",
       "    </tr>\n",
       "    <tr>\n",
       "      <th>10</th>\n",
       "      <td>ZboziCz</td>\n",
       "      <td>46411.61</td>\n",
       "      <td>269171</td>\n",
       "      <td>8423</td>\n",
       "      <td>6418</td>\n",
       "      <td>95</td>\n",
       "      <td>85</td>\n",
       "      <td>0.014802</td>\n",
       "      <td>712.75</td>\n",
       "    </tr>\n",
       "    <tr>\n",
       "      <th>11</th>\n",
       "      <td>unpaid</td>\n",
       "      <td>0.00</td>\n",
       "      <td>0</td>\n",
       "      <td>0</td>\n",
       "      <td>141169</td>\n",
       "      <td>1533</td>\n",
       "      <td>1438</td>\n",
       "      <td>0.010859</td>\n",
       "      <td>712.75</td>\n",
       "    </tr>\n",
       "  </tbody>\n",
       "</table>\n",
       "</div>"
      ],
      "text/plain": [
       "                  platformCode  marketingInvestment  impressions  clicks  \\\n",
       "0                      AdWords            852549.40     16667747  226106   \n",
       "1                       Adform                 0.00            0       1   \n",
       "2                         Bing                 0.00            0       0   \n",
       "3   FacebookBusinessAdsManager              8849.97       437780    9433   \n",
       "4                      FirmyCz              6684.82        58330     324   \n",
       "5                    HeurekaCz             10647.19            0    2620   \n",
       "6                  Not tracked                 0.00            0       0   \n",
       "7                     RtbHouse            132249.40      2844232   66618   \n",
       "8                    Silverpop            107096.63            0       0   \n",
       "9                        Sklik             63368.63      1570740   27423   \n",
       "10                     ZboziCz             46411.61       269171    8423   \n",
       "11                      unpaid                 0.00            0       0   \n",
       "\n",
       "    visits  conversions  deliveries  conversionRate  expected  \n",
       "0   237503         2887        2803        0.012156    712.75  \n",
       "1        4            0           0        0.000000    712.75  \n",
       "2        3            0           0        0.000000    712.75  \n",
       "3        0            0           0             NaN    712.75  \n",
       "4      158            2           2        0.012658    712.75  \n",
       "5     3923          101          99        0.025746    712.75  \n",
       "6        0         1266        1141             inf    712.75  \n",
       "7    47593          379         347        0.007963    712.75  \n",
       "8   107919         1719        1654        0.015929    712.75  \n",
       "9    29991          571         547        0.019039    712.75  \n",
       "10    6418           95          85        0.014802    712.75  \n",
       "11  141169         1533        1438        0.010859    712.75  "
      ]
     },
     "execution_count": 42,
     "metadata": {},
     "output_type": "execute_result"
    }
   ],
   "source": [
    "byPlatform"
   ]
  },
  {
   "cell_type": "code",
   "execution_count": 43,
   "metadata": {},
   "outputs": [
    {
     "ename": "TypeError",
     "evalue": "unsupported operand type(s) for -: 'str' and 'str'",
     "output_type": "error",
     "traceback": [
      "\u001b[1;31m---------------------------------------------------------------------------\u001b[0m",
      "\u001b[1;31mTypeError\u001b[0m                                 Traceback (most recent call last)",
      "\u001b[1;32m<ipython-input-43-ef78e6d92ad4>\u001b[0m in \u001b[0;36m<module>\u001b[1;34m\u001b[0m\n\u001b[1;32m----> 1\u001b[1;33m \u001b[0mchi_square\u001b[0m \u001b[1;33m=\u001b[0m \u001b[0mchi2\u001b[0m\u001b[1;33m(\u001b[0m\u001b[0mbyPlatform\u001b[0m\u001b[1;33m,\u001b[0m \u001b[1;34m'conversions'\u001b[0m\u001b[1;33m,\u001b[0m \u001b[1;34m'expected'\u001b[0m\u001b[1;33m)\u001b[0m\u001b[1;33m\u001b[0m\u001b[1;33m\u001b[0m\u001b[0m\n\u001b[0m",
      "\u001b[1;32m~\\Downloads\\mybooks\\project\\ads-proj\\ad-sales-ml-proj\\modules\\chisquare.py\u001b[0m in \u001b[0;36mchi2\u001b[1;34m(data, observed, expected)\u001b[0m\n\u001b[0;32m     14\u001b[0m \u001b[1;32mdef\u001b[0m \u001b[0mchi2\u001b[0m\u001b[1;33m(\u001b[0m\u001b[0mdata\u001b[0m\u001b[1;33m,\u001b[0m \u001b[0mobserved\u001b[0m\u001b[1;33m,\u001b[0m \u001b[0mexpected\u001b[0m\u001b[1;33m)\u001b[0m\u001b[1;33m:\u001b[0m\u001b[1;33m\u001b[0m\u001b[1;33m\u001b[0m\u001b[0m\n\u001b[0;32m     15\u001b[0m     \u001b[0mdata\u001b[0m \u001b[1;33m=\u001b[0m \u001b[0mdata\u001b[0m\u001b[1;33m[\u001b[0m\u001b[1;33m[\u001b[0m\u001b[0mobserved\u001b[0m\u001b[1;33m,\u001b[0m \u001b[0mexpected\u001b[0m\u001b[1;33m]\u001b[0m\u001b[1;33m]\u001b[0m\u001b[1;33m\u001b[0m\u001b[1;33m\u001b[0m\u001b[0m\n\u001b[1;32m---> 16\u001b[1;33m     pearson_residuals = [[(observed - expected) ** 2 / expected\n\u001b[0m\u001b[0;32m     17\u001b[0m     for observed in row] for row, expect in zip(observed, expected)] \n\u001b[0;32m     18\u001b[0m     \u001b[1;31m# return sum of squares\u001b[0m\u001b[1;33m\u001b[0m\u001b[1;33m\u001b[0m\u001b[1;33m\u001b[0m\u001b[0m\n",
      "\u001b[1;32m~\\Downloads\\mybooks\\project\\ads-proj\\ad-sales-ml-proj\\modules\\chisquare.py\u001b[0m in \u001b[0;36m<listcomp>\u001b[1;34m(.0)\u001b[0m\n\u001b[0;32m     14\u001b[0m \u001b[1;32mdef\u001b[0m \u001b[0mchi2\u001b[0m\u001b[1;33m(\u001b[0m\u001b[0mdata\u001b[0m\u001b[1;33m,\u001b[0m \u001b[0mobserved\u001b[0m\u001b[1;33m,\u001b[0m \u001b[0mexpected\u001b[0m\u001b[1;33m)\u001b[0m\u001b[1;33m:\u001b[0m\u001b[1;33m\u001b[0m\u001b[1;33m\u001b[0m\u001b[0m\n\u001b[0;32m     15\u001b[0m     \u001b[0mdata\u001b[0m \u001b[1;33m=\u001b[0m \u001b[0mdata\u001b[0m\u001b[1;33m[\u001b[0m\u001b[1;33m[\u001b[0m\u001b[0mobserved\u001b[0m\u001b[1;33m,\u001b[0m \u001b[0mexpected\u001b[0m\u001b[1;33m]\u001b[0m\u001b[1;33m]\u001b[0m\u001b[1;33m\u001b[0m\u001b[1;33m\u001b[0m\u001b[0m\n\u001b[1;32m---> 16\u001b[1;33m     pearson_residuals = [[(observed - expected) ** 2 / expected\n\u001b[0m\u001b[0;32m     17\u001b[0m     for observed in row] for row, expect in zip(observed, expected)] \n\u001b[0;32m     18\u001b[0m     \u001b[1;31m# return sum of squares\u001b[0m\u001b[1;33m\u001b[0m\u001b[1;33m\u001b[0m\u001b[1;33m\u001b[0m\u001b[0m\n",
      "\u001b[1;32m~\\Downloads\\mybooks\\project\\ads-proj\\ad-sales-ml-proj\\modules\\chisquare.py\u001b[0m in \u001b[0;36m<listcomp>\u001b[1;34m(.0)\u001b[0m\n\u001b[0;32m     14\u001b[0m \u001b[1;32mdef\u001b[0m \u001b[0mchi2\u001b[0m\u001b[1;33m(\u001b[0m\u001b[0mdata\u001b[0m\u001b[1;33m,\u001b[0m \u001b[0mobserved\u001b[0m\u001b[1;33m,\u001b[0m \u001b[0mexpected\u001b[0m\u001b[1;33m)\u001b[0m\u001b[1;33m:\u001b[0m\u001b[1;33m\u001b[0m\u001b[1;33m\u001b[0m\u001b[0m\n\u001b[0;32m     15\u001b[0m     \u001b[0mdata\u001b[0m \u001b[1;33m=\u001b[0m \u001b[0mdata\u001b[0m\u001b[1;33m[\u001b[0m\u001b[1;33m[\u001b[0m\u001b[0mobserved\u001b[0m\u001b[1;33m,\u001b[0m \u001b[0mexpected\u001b[0m\u001b[1;33m]\u001b[0m\u001b[1;33m]\u001b[0m\u001b[1;33m\u001b[0m\u001b[1;33m\u001b[0m\u001b[0m\n\u001b[1;32m---> 16\u001b[1;33m     pearson_residuals = [[(observed - expected) ** 2 / expected\n\u001b[0m\u001b[0;32m     17\u001b[0m     for observed in row] for row, expect in zip(observed, expected)] \n\u001b[0;32m     18\u001b[0m     \u001b[1;31m# return sum of squares\u001b[0m\u001b[1;33m\u001b[0m\u001b[1;33m\u001b[0m\u001b[1;33m\u001b[0m\u001b[0m\n",
      "\u001b[1;31mTypeError\u001b[0m: unsupported operand type(s) for -: 'str' and 'str'"
     ]
    }
   ],
   "source": [
    "chi_square = chi2(byPlatform, 'conversions', 'expected')"
   ]
  },
  {
   "cell_type": "code",
   "execution_count": null,
   "metadata": {},
   "outputs": [],
   "source": []
  }
 ],
 "metadata": {
  "kernelspec": {
   "display_name": "Python 3.8.8 ('base')",
   "language": "python",
   "name": "python3"
  },
  "language_info": {
   "codemirror_mode": {
    "name": "ipython",
    "version": 3
   },
   "file_extension": ".py",
   "mimetype": "text/x-python",
   "name": "python",
   "nbconvert_exporter": "python",
   "pygments_lexer": "ipython3",
   "version": "3.8.8"
  },
  "orig_nbformat": 4,
  "vscode": {
   "interpreter": {
    "hash": "b1e6b76b6e736d29445d5c5f779c1dafb0f59893c5766b7198bc0a87a8e7acf4"
   }
  }
 },
 "nbformat": 4,
 "nbformat_minor": 2
}
