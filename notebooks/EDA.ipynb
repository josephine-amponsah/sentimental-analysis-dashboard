{
 "cells": [
  {
   "cell_type": "code",
   "execution_count": 2,
   "metadata": {},
   "outputs": [],
   "source": [
    "import pandas as pd   \n",
    "import numpy as np \n",
    "import seaborn as sns  \n",
    "import matplotlib.pyplot as plt  \n"
   ]
  },
  {
   "cell_type": "code",
   "execution_count": 3,
   "metadata": {},
   "outputs": [],
   "source": [
    "marketing = pd.read_csv(r'C:\\\\Users\\\\HP\\\\Downloads\\\\mybooks\\\\project\\\\ads-proj\\\\ad-sales-ml-proj\\\\data\\\\marketingData.csv', index_col= 0)"
   ]
  },
  {
   "cell_type": "code",
   "execution_count": 4,
   "metadata": {},
   "outputs": [
    {
     "data": {
      "text/html": [
       "<div>\n",
       "<style scoped>\n",
       "    .dataframe tbody tr th:only-of-type {\n",
       "        vertical-align: middle;\n",
       "    }\n",
       "\n",
       "    .dataframe tbody tr th {\n",
       "        vertical-align: top;\n",
       "    }\n",
       "\n",
       "    .dataframe thead th {\n",
       "        text-align: right;\n",
       "    }\n",
       "</style>\n",
       "<table border=\"1\" class=\"dataframe\">\n",
       "  <thead>\n",
       "    <tr style=\"text-align: right;\">\n",
       "      <th></th>\n",
       "      <th>periodCode</th>\n",
       "      <th>platformCode</th>\n",
       "      <th>channelCode</th>\n",
       "      <th>marketingInvestment</th>\n",
       "      <th>impressions</th>\n",
       "      <th>clicks</th>\n",
       "      <th>visits</th>\n",
       "      <th>conversions</th>\n",
       "      <th>deliveries</th>\n",
       "    </tr>\n",
       "  </thead>\n",
       "  <tbody>\n",
       "    <tr>\n",
       "      <th>0</th>\n",
       "      <td>20200102</td>\n",
       "      <td>AdWords</td>\n",
       "      <td>adwords_bra</td>\n",
       "      <td>16709</td>\n",
       "      <td>408</td>\n",
       "      <td>266</td>\n",
       "      <td>306</td>\n",
       "      <td>4</td>\n",
       "      <td>4</td>\n",
       "    </tr>\n",
       "    <tr>\n",
       "      <th>1</th>\n",
       "      <td>20200102</td>\n",
       "      <td>AdWords</td>\n",
       "      <td>adwords_dsa</td>\n",
       "      <td>3106</td>\n",
       "      <td>370</td>\n",
       "      <td>12</td>\n",
       "      <td>11</td>\n",
       "      <td>0</td>\n",
       "      <td>0</td>\n",
       "    </tr>\n",
       "    <tr>\n",
       "      <th>2</th>\n",
       "      <td>20200102</td>\n",
       "      <td>AdWords</td>\n",
       "      <td>adwords_pla</td>\n",
       "      <td>1086892</td>\n",
       "      <td>191564</td>\n",
       "      <td>2609</td>\n",
       "      <td>2667</td>\n",
       "      <td>27</td>\n",
       "      <td>27</td>\n",
       "    </tr>\n",
       "    <tr>\n",
       "      <th>3</th>\n",
       "      <td>20200102</td>\n",
       "      <td>AdWords</td>\n",
       "      <td>adwords_rem</td>\n",
       "      <td>76206</td>\n",
       "      <td>24668</td>\n",
       "      <td>386</td>\n",
       "      <td>429</td>\n",
       "      <td>3</td>\n",
       "      <td>3</td>\n",
       "    </tr>\n",
       "    <tr>\n",
       "      <th>4</th>\n",
       "      <td>20200102</td>\n",
       "      <td>AdWords</td>\n",
       "      <td>adwords_sea</td>\n",
       "      <td>2908</td>\n",
       "      <td>531</td>\n",
       "      <td>26</td>\n",
       "      <td>36</td>\n",
       "      <td>0</td>\n",
       "      <td>0</td>\n",
       "    </tr>\n",
       "  </tbody>\n",
       "</table>\n",
       "</div>"
      ],
      "text/plain": [
       "   periodCode platformCode  channelCode  marketingInvestment  impressions  \\\n",
       "0    20200102      AdWords  adwords_bra                16709          408   \n",
       "1    20200102      AdWords  adwords_dsa                 3106          370   \n",
       "2    20200102      AdWords  adwords_pla              1086892       191564   \n",
       "3    20200102      AdWords  adwords_rem                76206        24668   \n",
       "4    20200102      AdWords  adwords_sea                 2908          531   \n",
       "\n",
       "   clicks  visits  conversions  deliveries  \n",
       "0     266     306            4           4  \n",
       "1      12      11            0           0  \n",
       "2    2609    2667           27          27  \n",
       "3     386     429            3           3  \n",
       "4      26      36            0           0  "
      ]
     },
     "execution_count": 4,
     "metadata": {},
     "output_type": "execute_result"
    }
   ],
   "source": [
    "marketing.head()"
   ]
  },
  {
   "cell_type": "code",
   "execution_count": 5,
   "metadata": {},
   "outputs": [
    {
     "name": "stdout",
     "output_type": "stream",
     "text": [
      "<class 'pandas.core.frame.DataFrame'>\n",
      "Int64Index: 1814 entries, 0 to 1813\n",
      "Data columns (total 9 columns):\n",
      " #   Column               Non-Null Count  Dtype \n",
      "---  ------               --------------  ----- \n",
      " 0   periodCode           1814 non-null   int64 \n",
      " 1   platformCode         1814 non-null   object\n",
      " 2   channelCode          1814 non-null   object\n",
      " 3   marketingInvestment  1814 non-null   int64 \n",
      " 4   impressions          1814 non-null   int64 \n",
      " 5   clicks               1814 non-null   int64 \n",
      " 6   visits               1814 non-null   int64 \n",
      " 7   conversions          1814 non-null   int64 \n",
      " 8   deliveries           1814 non-null   int64 \n",
      "dtypes: int64(7), object(2)\n",
      "memory usage: 141.7+ KB\n"
     ]
    }
   ],
   "source": [
    "marketing.info()"
   ]
  },
  {
   "cell_type": "code",
   "execution_count": 6,
   "metadata": {},
   "outputs": [],
   "source": [
    "marketing['periodCode'] = marketing['periodCode'].astype(str)"
   ]
  },
  {
   "cell_type": "code",
   "execution_count": 7,
   "metadata": {},
   "outputs": [],
   "source": [
    "marketing['periodCode'] = pd.to_datetime(marketing['periodCode'], format=\"%Y-%m-%d\")"
   ]
  },
  {
   "cell_type": "code",
   "execution_count": 8,
   "metadata": {},
   "outputs": [
    {
     "data": {
      "text/html": [
       "<div>\n",
       "<style scoped>\n",
       "    .dataframe tbody tr th:only-of-type {\n",
       "        vertical-align: middle;\n",
       "    }\n",
       "\n",
       "    .dataframe tbody tr th {\n",
       "        vertical-align: top;\n",
       "    }\n",
       "\n",
       "    .dataframe thead th {\n",
       "        text-align: right;\n",
       "    }\n",
       "</style>\n",
       "<table border=\"1\" class=\"dataframe\">\n",
       "  <thead>\n",
       "    <tr style=\"text-align: right;\">\n",
       "      <th></th>\n",
       "      <th>periodCode</th>\n",
       "      <th>platformCode</th>\n",
       "      <th>channelCode</th>\n",
       "      <th>marketingInvestment</th>\n",
       "      <th>impressions</th>\n",
       "      <th>clicks</th>\n",
       "      <th>visits</th>\n",
       "      <th>conversions</th>\n",
       "      <th>deliveries</th>\n",
       "    </tr>\n",
       "  </thead>\n",
       "  <tbody>\n",
       "    <tr>\n",
       "      <th>0</th>\n",
       "      <td>2020-01-02</td>\n",
       "      <td>AdWords</td>\n",
       "      <td>adwords_bra</td>\n",
       "      <td>16709</td>\n",
       "      <td>408</td>\n",
       "      <td>266</td>\n",
       "      <td>306</td>\n",
       "      <td>4</td>\n",
       "      <td>4</td>\n",
       "    </tr>\n",
       "    <tr>\n",
       "      <th>1</th>\n",
       "      <td>2020-01-02</td>\n",
       "      <td>AdWords</td>\n",
       "      <td>adwords_dsa</td>\n",
       "      <td>3106</td>\n",
       "      <td>370</td>\n",
       "      <td>12</td>\n",
       "      <td>11</td>\n",
       "      <td>0</td>\n",
       "      <td>0</td>\n",
       "    </tr>\n",
       "    <tr>\n",
       "      <th>2</th>\n",
       "      <td>2020-01-02</td>\n",
       "      <td>AdWords</td>\n",
       "      <td>adwords_pla</td>\n",
       "      <td>1086892</td>\n",
       "      <td>191564</td>\n",
       "      <td>2609</td>\n",
       "      <td>2667</td>\n",
       "      <td>27</td>\n",
       "      <td>27</td>\n",
       "    </tr>\n",
       "    <tr>\n",
       "      <th>3</th>\n",
       "      <td>2020-01-02</td>\n",
       "      <td>AdWords</td>\n",
       "      <td>adwords_rem</td>\n",
       "      <td>76206</td>\n",
       "      <td>24668</td>\n",
       "      <td>386</td>\n",
       "      <td>429</td>\n",
       "      <td>3</td>\n",
       "      <td>3</td>\n",
       "    </tr>\n",
       "    <tr>\n",
       "      <th>4</th>\n",
       "      <td>2020-01-02</td>\n",
       "      <td>AdWords</td>\n",
       "      <td>adwords_sea</td>\n",
       "      <td>2908</td>\n",
       "      <td>531</td>\n",
       "      <td>26</td>\n",
       "      <td>36</td>\n",
       "      <td>0</td>\n",
       "      <td>0</td>\n",
       "    </tr>\n",
       "  </tbody>\n",
       "</table>\n",
       "</div>"
      ],
      "text/plain": [
       "  periodCode platformCode  channelCode  marketingInvestment  impressions  \\\n",
       "0 2020-01-02      AdWords  adwords_bra                16709          408   \n",
       "1 2020-01-02      AdWords  adwords_dsa                 3106          370   \n",
       "2 2020-01-02      AdWords  adwords_pla              1086892       191564   \n",
       "3 2020-01-02      AdWords  adwords_rem                76206        24668   \n",
       "4 2020-01-02      AdWords  adwords_sea                 2908          531   \n",
       "\n",
       "   clicks  visits  conversions  deliveries  \n",
       "0     266     306            4           4  \n",
       "1      12      11            0           0  \n",
       "2    2609    2667           27          27  \n",
       "3     386     429            3           3  \n",
       "4      26      36            0           0  "
      ]
     },
     "execution_count": 8,
     "metadata": {},
     "output_type": "execute_result"
    }
   ],
   "source": [
    "marketing.head()"
   ]
  },
  {
   "cell_type": "code",
   "execution_count": 9,
   "metadata": {},
   "outputs": [],
   "source": [
    "revenue = pd.read_csv(r'C:\\\\Users\\\\HP\\\\Downloads\\\\mybooks\\\\project\\\\ads-proj\\\\ad-sales-ml-proj\\\\data\\\\revenueData.csv', index_col = 0)"
   ]
  },
  {
   "cell_type": "code",
   "execution_count": 10,
   "metadata": {},
   "outputs": [
    {
     "data": {
      "text/html": [
       "<div>\n",
       "<style scoped>\n",
       "    .dataframe tbody tr th:only-of-type {\n",
       "        vertical-align: middle;\n",
       "    }\n",
       "\n",
       "    .dataframe tbody tr th {\n",
       "        vertical-align: top;\n",
       "    }\n",
       "\n",
       "    .dataframe thead th {\n",
       "        text-align: right;\n",
       "    }\n",
       "</style>\n",
       "<table border=\"1\" class=\"dataframe\">\n",
       "  <thead>\n",
       "    <tr style=\"text-align: right;\">\n",
       "      <th></th>\n",
       "      <th>createdAt</th>\n",
       "      <th>platformCode</th>\n",
       "      <th>channelCode</th>\n",
       "      <th>revenue</th>\n",
       "    </tr>\n",
       "  </thead>\n",
       "  <tbody>\n",
       "    <tr>\n",
       "      <th>0</th>\n",
       "      <td>2020-01-02</td>\n",
       "      <td>AdWords</td>\n",
       "      <td>adwords_bra</td>\n",
       "      <td>5581</td>\n",
       "    </tr>\n",
       "    <tr>\n",
       "      <th>1</th>\n",
       "      <td>2020-01-02</td>\n",
       "      <td>AdWords</td>\n",
       "      <td>adwords_pla</td>\n",
       "      <td>60605</td>\n",
       "    </tr>\n",
       "    <tr>\n",
       "      <th>2</th>\n",
       "      <td>2020-01-02</td>\n",
       "      <td>AdWords</td>\n",
       "      <td>adwords_rem</td>\n",
       "      <td>2681</td>\n",
       "    </tr>\n",
       "    <tr>\n",
       "      <th>3</th>\n",
       "      <td>2020-01-02</td>\n",
       "      <td>HeurekaCz</td>\n",
       "      <td>heureka</td>\n",
       "      <td>15131</td>\n",
       "    </tr>\n",
       "    <tr>\n",
       "      <th>4</th>\n",
       "      <td>2020-01-02</td>\n",
       "      <td>RtbHouse</td>\n",
       "      <td>rtbhouse</td>\n",
       "      <td>1082</td>\n",
       "    </tr>\n",
       "  </tbody>\n",
       "</table>\n",
       "</div>"
      ],
      "text/plain": [
       "    createdAt platformCode  channelCode  revenue\n",
       "0  2020-01-02      AdWords  adwords_bra     5581\n",
       "1  2020-01-02      AdWords  adwords_pla    60605\n",
       "2  2020-01-02      AdWords  adwords_rem     2681\n",
       "3  2020-01-02    HeurekaCz      heureka    15131\n",
       "4  2020-01-02     RtbHouse     rtbhouse     1082"
      ]
     },
     "execution_count": 10,
     "metadata": {},
     "output_type": "execute_result"
    }
   ],
   "source": [
    "revenue.head()"
   ]
  },
  {
   "cell_type": "code",
   "execution_count": 13,
   "metadata": {},
   "outputs": [],
   "source": [
    "revenue.rename(columns = {'periodCode':'createdAt'}, inplace = True)"
   ]
  },
  {
   "cell_type": "code",
   "execution_count": 15,
   "metadata": {},
   "outputs": [
    {
     "name": "stdout",
     "output_type": "stream",
     "text": [
      "<class 'pandas.core.frame.DataFrame'>\n",
      "Int64Index: 1061 entries, 0 to 1060\n",
      "Data columns (total 4 columns):\n",
      " #   Column        Non-Null Count  Dtype \n",
      "---  ------        --------------  ----- \n",
      " 0   createdAt     1061 non-null   object\n",
      " 1   platformCode  1061 non-null   object\n",
      " 2   channelCode   1061 non-null   object\n",
      " 3   revenue       1061 non-null   int64 \n",
      "dtypes: int64(1), object(3)\n",
      "memory usage: 73.7+ KB\n"
     ]
    }
   ],
   "source": [
    "revenue.info()"
   ]
  },
  {
   "cell_type": "code",
   "execution_count": 18,
   "metadata": {},
   "outputs": [
    {
     "data": {
      "text/plain": [
       "notset       322\n",
       "AdWords      245\n",
       "Sklik        216\n",
       "Silverpop     84\n",
       "RtbHouse      81\n",
       "HeurekaCz     64\n",
       "ZboziCz       47\n",
       "FirmyCz        2\n",
       "Name: platformCode, dtype: int64"
      ]
     },
     "execution_count": 18,
     "metadata": {},
     "output_type": "execute_result"
    }
   ],
   "source": [
    "revenue['platformCode'].value_counts()"
   ]
  },
  {
   "cell_type": "code",
   "execution_count": 19,
   "metadata": {},
   "outputs": [
    {
     "data": {
      "text/plain": [
       "unpaid                        528\n",
       "AdWords                       376\n",
       "Sklik                         342\n",
       "FirmyCz                        84\n",
       "Silverpop                      84\n",
       "RtbHouse                       84\n",
       "ZboziCz                        84\n",
       "HeurekaCz                      84\n",
       "Not tracked                    81\n",
       "FacebookBusinessAdsManager     60\n",
       "Adform                          4\n",
       "Bing                            3\n",
       "Name: platformCode, dtype: int64"
      ]
     },
     "execution_count": 19,
     "metadata": {},
     "output_type": "execute_result"
    }
   ],
   "source": [
    "marketing['platformCode'].value_counts()"
   ]
  },
  {
   "cell_type": "code",
   "execution_count": null,
   "metadata": {},
   "outputs": [],
   "source": [
    "data = marketing.join(revenue, on = ['createdAt', 'platformCode','channelCode'], how = 'outer')"
   ]
  },
  {
   "cell_type": "code",
   "execution_count": null,
   "metadata": {},
   "outputs": [],
   "source": []
  }
 ],
 "metadata": {
  "kernelspec": {
   "display_name": "Python 3.8.8 ('base')",
   "language": "python",
   "name": "python3"
  },
  "language_info": {
   "codemirror_mode": {
    "name": "ipython",
    "version": 3
   },
   "file_extension": ".py",
   "mimetype": "text/x-python",
   "name": "python",
   "nbconvert_exporter": "python",
   "pygments_lexer": "ipython3",
   "version": "3.8.8"
  },
  "orig_nbformat": 4,
  "vscode": {
   "interpreter": {
    "hash": "b1e6b76b6e736d29445d5c5f779c1dafb0f59893c5766b7198bc0a87a8e7acf4"
   }
  }
 },
 "nbformat": 4,
 "nbformat_minor": 2
}
