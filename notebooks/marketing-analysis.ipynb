{
 "cells": [
  {
   "cell_type": "code",
   "execution_count": 1,
   "metadata": {},
   "outputs": [],
   "source": [
    "import pandas as pd\n",
    "import numpy as np\n",
    "import matplotlib.pyplot as plt\n",
    "import seaborn as sns"
   ]
  },
  {
   "cell_type": "code",
   "execution_count": 2,
   "metadata": {},
   "outputs": [],
   "source": [
    "ads_data = pd.read_csv(r'../data/paidTraffic.csv', index_col = 0)"
   ]
  },
  {
   "cell_type": "code",
   "execution_count": 3,
   "metadata": {},
   "outputs": [],
   "source": [
    "organic_traffic = pd.read_csv(r'../data/organicTraffic.csv', index_col=0)"
   ]
  },
  {
   "cell_type": "code",
   "execution_count": 4,
   "metadata": {},
   "outputs": [
    {
     "data": {
      "text/html": [
       "<div>\n",
       "<style scoped>\n",
       "    .dataframe tbody tr th:only-of-type {\n",
       "        vertical-align: middle;\n",
       "    }\n",
       "\n",
       "    .dataframe tbody tr th {\n",
       "        vertical-align: top;\n",
       "    }\n",
       "\n",
       "    .dataframe thead th {\n",
       "        text-align: right;\n",
       "    }\n",
       "</style>\n",
       "<table border=\"1\" class=\"dataframe\">\n",
       "  <thead>\n",
       "    <tr style=\"text-align: right;\">\n",
       "      <th></th>\n",
       "      <th>periodCode</th>\n",
       "      <th>platformCode</th>\n",
       "      <th>channelCode</th>\n",
       "      <th>marketingInvestment</th>\n",
       "      <th>clicks</th>\n",
       "      <th>visits</th>\n",
       "      <th>impressions</th>\n",
       "      <th>conversions</th>\n",
       "      <th>deliveries</th>\n",
       "    </tr>\n",
       "  </thead>\n",
       "  <tbody>\n",
       "    <tr>\n",
       "      <th>0</th>\n",
       "      <td>2020-01-02</td>\n",
       "      <td>AdWords</td>\n",
       "      <td>adwords_bra</td>\n",
       "      <td>167.09</td>\n",
       "      <td>266</td>\n",
       "      <td>306</td>\n",
       "      <td>408</td>\n",
       "      <td>4</td>\n",
       "      <td>4</td>\n",
       "    </tr>\n",
       "    <tr>\n",
       "      <th>1</th>\n",
       "      <td>2020-01-02</td>\n",
       "      <td>AdWords</td>\n",
       "      <td>adwords_dsa</td>\n",
       "      <td>31.06</td>\n",
       "      <td>12</td>\n",
       "      <td>11</td>\n",
       "      <td>370</td>\n",
       "      <td>0</td>\n",
       "      <td>0</td>\n",
       "    </tr>\n",
       "    <tr>\n",
       "      <th>2</th>\n",
       "      <td>2020-01-02</td>\n",
       "      <td>AdWords</td>\n",
       "      <td>adwords_pla</td>\n",
       "      <td>10868.92</td>\n",
       "      <td>2609</td>\n",
       "      <td>2667</td>\n",
       "      <td>191564</td>\n",
       "      <td>27</td>\n",
       "      <td>27</td>\n",
       "    </tr>\n",
       "    <tr>\n",
       "      <th>3</th>\n",
       "      <td>2020-01-02</td>\n",
       "      <td>AdWords</td>\n",
       "      <td>adwords_rem</td>\n",
       "      <td>762.06</td>\n",
       "      <td>386</td>\n",
       "      <td>429</td>\n",
       "      <td>24668</td>\n",
       "      <td>3</td>\n",
       "      <td>3</td>\n",
       "    </tr>\n",
       "    <tr>\n",
       "      <th>4</th>\n",
       "      <td>2020-01-02</td>\n",
       "      <td>AdWords</td>\n",
       "      <td>adwords_sea</td>\n",
       "      <td>41.59</td>\n",
       "      <td>26</td>\n",
       "      <td>36</td>\n",
       "      <td>531</td>\n",
       "      <td>0</td>\n",
       "      <td>0</td>\n",
       "    </tr>\n",
       "  </tbody>\n",
       "</table>\n",
       "</div>"
      ],
      "text/plain": [
       "   periodCode platformCode  channelCode  marketingInvestment  clicks  visits  \\\n",
       "0  2020-01-02      AdWords  adwords_bra               167.09     266     306   \n",
       "1  2020-01-02      AdWords  adwords_dsa                31.06      12      11   \n",
       "2  2020-01-02      AdWords  adwords_pla             10868.92    2609    2667   \n",
       "3  2020-01-02      AdWords  adwords_rem               762.06     386     429   \n",
       "4  2020-01-02      AdWords  adwords_sea                41.59      26      36   \n",
       "\n",
       "   impressions  conversions  deliveries  \n",
       "0          408            4           4  \n",
       "1          370            0           0  \n",
       "2       191564           27          27  \n",
       "3        24668            3           3  \n",
       "4          531            0           0  "
      ]
     },
     "execution_count": 4,
     "metadata": {},
     "output_type": "execute_result"
    }
   ],
   "source": [
    "ads_data.head()"
   ]
  },
  {
   "cell_type": "code",
   "execution_count": 5,
   "metadata": {},
   "outputs": [],
   "source": [
    "ads_revenue = pd.read_csv(r'../data/pushedSales.csv')"
   ]
  },
  {
   "cell_type": "code",
   "execution_count": 6,
   "metadata": {},
   "outputs": [],
   "source": [
    "base_sales = pd.read_csv(r'../data/organicSales.csv')"
   ]
  },
  {
   "cell_type": "code",
   "execution_count": 7,
   "metadata": {},
   "outputs": [
    {
     "data": {
      "text/html": [
       "<div>\n",
       "<style scoped>\n",
       "    .dataframe tbody tr th:only-of-type {\n",
       "        vertical-align: middle;\n",
       "    }\n",
       "\n",
       "    .dataframe tbody tr th {\n",
       "        vertical-align: top;\n",
       "    }\n",
       "\n",
       "    .dataframe thead th {\n",
       "        text-align: right;\n",
       "    }\n",
       "</style>\n",
       "<table border=\"1\" class=\"dataframe\">\n",
       "  <thead>\n",
       "    <tr style=\"text-align: right;\">\n",
       "      <th></th>\n",
       "      <th>createdAt</th>\n",
       "      <th>platformCode</th>\n",
       "      <th>channelCode</th>\n",
       "      <th>quantity</th>\n",
       "      <th>total</th>\n",
       "      <th>delivery</th>\n",
       "      <th>revenue</th>\n",
       "    </tr>\n",
       "  </thead>\n",
       "  <tbody>\n",
       "    <tr>\n",
       "      <th>0</th>\n",
       "      <td>2020-01-02</td>\n",
       "      <td>AdWords</td>\n",
       "      <td>adwords_bra</td>\n",
       "      <td>11</td>\n",
       "      <td>6105</td>\n",
       "      <td>489</td>\n",
       "      <td>5581</td>\n",
       "    </tr>\n",
       "    <tr>\n",
       "      <th>1</th>\n",
       "      <td>2020-01-02</td>\n",
       "      <td>AdWords</td>\n",
       "      <td>adwords_pla</td>\n",
       "      <td>136</td>\n",
       "      <td>63838</td>\n",
       "      <td>3590</td>\n",
       "      <td>60605</td>\n",
       "    </tr>\n",
       "    <tr>\n",
       "      <th>2</th>\n",
       "      <td>2020-01-02</td>\n",
       "      <td>AdWords</td>\n",
       "      <td>adwords_rem</td>\n",
       "      <td>8</td>\n",
       "      <td>3125</td>\n",
       "      <td>373</td>\n",
       "      <td>2681</td>\n",
       "    </tr>\n",
       "    <tr>\n",
       "      <th>3</th>\n",
       "      <td>2020-01-02</td>\n",
       "      <td>HeurekaCz</td>\n",
       "      <td>heureka</td>\n",
       "      <td>4</td>\n",
       "      <td>16256</td>\n",
       "      <td>1031</td>\n",
       "      <td>15131</td>\n",
       "    </tr>\n",
       "    <tr>\n",
       "      <th>4</th>\n",
       "      <td>2020-01-02</td>\n",
       "      <td>RtbHouse</td>\n",
       "      <td>rtbhouse</td>\n",
       "      <td>1</td>\n",
       "      <td>1234</td>\n",
       "      <td>116</td>\n",
       "      <td>1082</td>\n",
       "    </tr>\n",
       "  </tbody>\n",
       "</table>\n",
       "</div>"
      ],
      "text/plain": [
       "    createdAt platformCode  channelCode  quantity  total  delivery  revenue\n",
       "0  2020-01-02      AdWords  adwords_bra        11   6105       489     5581\n",
       "1  2020-01-02      AdWords  adwords_pla       136  63838      3590    60605\n",
       "2  2020-01-02      AdWords  adwords_rem         8   3125       373     2681\n",
       "3  2020-01-02    HeurekaCz      heureka         4  16256      1031    15131\n",
       "4  2020-01-02     RtbHouse     rtbhouse         1   1234       116     1082"
      ]
     },
     "execution_count": 7,
     "metadata": {},
     "output_type": "execute_result"
    }
   ],
   "source": [
    "ads_revenue.head()"
   ]
  },
  {
   "cell_type": "code",
   "execution_count": 8,
   "metadata": {},
   "outputs": [],
   "source": [
    "ads_revenue = ads_revenue.rename(columns = {\"delivery\": \"shipping\", \"total\": \"total_bill\", \"revenue\":\"revenue_after_dis\", \"quantity\":\"prod_quantity\"})"
   ]
  },
  {
   "cell_type": "code",
   "execution_count": 9,
   "metadata": {},
   "outputs": [
    {
     "name": "stdout",
     "output_type": "stream",
     "text": [
      "<class 'pandas.core.frame.DataFrame'>\n",
      "RangeIndex: 739 entries, 0 to 738\n",
      "Data columns (total 7 columns):\n",
      " #   Column             Non-Null Count  Dtype \n",
      "---  ------             --------------  ----- \n",
      " 0   createdAt          739 non-null    object\n",
      " 1   platformCode       739 non-null    object\n",
      " 2   channelCode        739 non-null    object\n",
      " 3   prod_quantity      739 non-null    int64 \n",
      " 4   total_bill         739 non-null    int64 \n",
      " 5   shipping           739 non-null    int64 \n",
      " 6   revenue_after_dis  739 non-null    int64 \n",
      "dtypes: int64(4), object(3)\n",
      "memory usage: 40.5+ KB\n"
     ]
    }
   ],
   "source": [
    "ads_revenue.info()"
   ]
  },
  {
   "cell_type": "code",
   "execution_count": 10,
   "metadata": {},
   "outputs": [],
   "source": [
    "revenue_ads = ads_revenue[['createdAt', 'platformCode', 'channelCode', 'revenue_after_dis']]"
   ]
  },
  {
   "cell_type": "code",
   "execution_count": 11,
   "metadata": {},
   "outputs": [],
   "source": [
    "ads_data = ads_data.rename(columns={'periodCode':'createdAt'})"
   ]
  },
  {
   "cell_type": "code",
   "execution_count": 12,
   "metadata": {},
   "outputs": [],
   "source": [
    "ads_attributions = pd.merge(ads_data, revenue_ads, left_on = ['createdAt', 'platformCode', 'channelCode'], right_on = ['createdAt', 'platformCode', 'channelCode'])"
   ]
  },
  {
   "cell_type": "code",
   "execution_count": 13,
   "metadata": {},
   "outputs": [
    {
     "data": {
      "text/html": [
       "<div>\n",
       "<style scoped>\n",
       "    .dataframe tbody tr th:only-of-type {\n",
       "        vertical-align: middle;\n",
       "    }\n",
       "\n",
       "    .dataframe tbody tr th {\n",
       "        vertical-align: top;\n",
       "    }\n",
       "\n",
       "    .dataframe thead th {\n",
       "        text-align: right;\n",
       "    }\n",
       "</style>\n",
       "<table border=\"1\" class=\"dataframe\">\n",
       "  <thead>\n",
       "    <tr style=\"text-align: right;\">\n",
       "      <th></th>\n",
       "      <th>createdAt</th>\n",
       "      <th>platformCode</th>\n",
       "      <th>channelCode</th>\n",
       "      <th>marketingInvestment</th>\n",
       "      <th>clicks</th>\n",
       "      <th>visits</th>\n",
       "      <th>impressions</th>\n",
       "      <th>conversions</th>\n",
       "      <th>deliveries</th>\n",
       "      <th>revenue_after_dis</th>\n",
       "    </tr>\n",
       "  </thead>\n",
       "  <tbody>\n",
       "    <tr>\n",
       "      <th>0</th>\n",
       "      <td>2020-01-02</td>\n",
       "      <td>AdWords</td>\n",
       "      <td>adwords_bra</td>\n",
       "      <td>167.09</td>\n",
       "      <td>266</td>\n",
       "      <td>306</td>\n",
       "      <td>408</td>\n",
       "      <td>4</td>\n",
       "      <td>4</td>\n",
       "      <td>5581</td>\n",
       "    </tr>\n",
       "    <tr>\n",
       "      <th>1</th>\n",
       "      <td>2020-01-02</td>\n",
       "      <td>AdWords</td>\n",
       "      <td>adwords_pla</td>\n",
       "      <td>10868.92</td>\n",
       "      <td>2609</td>\n",
       "      <td>2667</td>\n",
       "      <td>191564</td>\n",
       "      <td>27</td>\n",
       "      <td>27</td>\n",
       "      <td>60605</td>\n",
       "    </tr>\n",
       "    <tr>\n",
       "      <th>2</th>\n",
       "      <td>2020-01-02</td>\n",
       "      <td>AdWords</td>\n",
       "      <td>adwords_rem</td>\n",
       "      <td>762.06</td>\n",
       "      <td>386</td>\n",
       "      <td>429</td>\n",
       "      <td>24668</td>\n",
       "      <td>3</td>\n",
       "      <td>3</td>\n",
       "      <td>2681</td>\n",
       "    </tr>\n",
       "    <tr>\n",
       "      <th>3</th>\n",
       "      <td>2020-01-02</td>\n",
       "      <td>HeurekaCz</td>\n",
       "      <td>heureka</td>\n",
       "      <td>262.39</td>\n",
       "      <td>52</td>\n",
       "      <td>69</td>\n",
       "      <td>0</td>\n",
       "      <td>3</td>\n",
       "      <td>3</td>\n",
       "      <td>15131</td>\n",
       "    </tr>\n",
       "    <tr>\n",
       "      <th>4</th>\n",
       "      <td>2020-01-02</td>\n",
       "      <td>RtbHouse</td>\n",
       "      <td>rtbhouse</td>\n",
       "      <td>92.40</td>\n",
       "      <td>0</td>\n",
       "      <td>63</td>\n",
       "      <td>0</td>\n",
       "      <td>1</td>\n",
       "      <td>1</td>\n",
       "      <td>1082</td>\n",
       "    </tr>\n",
       "  </tbody>\n",
       "</table>\n",
       "</div>"
      ],
      "text/plain": [
       "    createdAt platformCode  channelCode  marketingInvestment  clicks  visits  \\\n",
       "0  2020-01-02      AdWords  adwords_bra               167.09     266     306   \n",
       "1  2020-01-02      AdWords  adwords_pla             10868.92    2609    2667   \n",
       "2  2020-01-02      AdWords  adwords_rem               762.06     386     429   \n",
       "3  2020-01-02    HeurekaCz      heureka               262.39      52      69   \n",
       "4  2020-01-02     RtbHouse     rtbhouse                92.40       0      63   \n",
       "\n",
       "   impressions  conversions  deliveries  revenue_after_dis  \n",
       "0          408            4           4               5581  \n",
       "1       191564           27          27              60605  \n",
       "2        24668            3           3               2681  \n",
       "3            0            3           3              15131  \n",
       "4            0            1           1               1082  "
      ]
     },
     "execution_count": 13,
     "metadata": {},
     "output_type": "execute_result"
    }
   ],
   "source": [
    "ads_attributions.head()"
   ]
  },
  {
   "attachments": {},
   "cell_type": "markdown",
   "metadata": {},
   "source": [
    "# Analyzing Market Impact of Ads\n",
    "The analysis can be done per each day of advertisement for each channel or on aggregated data for each channel over the entire period. The latter will be of use as inputs for optimization models. however, the former option will enable analysis such the performance of each channel overtime. \n",
    "With a goal of the latter choice, the data will be aggregated over the entire period for this analysis."
   ]
  },
  {
   "cell_type": "code",
   "execution_count": 14,
   "metadata": {},
   "outputs": [
    {
     "name": "stderr",
     "output_type": "stream",
     "text": [
      "C:\\Users\\HP\\AppData\\Local\\Temp\\ipykernel_28412\\3937663857.py:2: FutureWarning: Indexing with multiple keys (implicitly converted to a tuple of keys) will be deprecated, use a list instead.\n",
      "  aggregated_attribution = aggregated_attribution.groupby([ \"platformCode\", \"channelCode\"])['marketingInvestment','impressions','clicks', 'visits', 'conversions', 'deliveries',\"revenue_after_dis\"].sum()\n"
     ]
    }
   ],
   "source": [
    "aggregated_attribution = ads_attributions.drop('createdAt', axis=1)\n",
    "aggregated_attribution = aggregated_attribution.groupby([ \"platformCode\", \"channelCode\"])['marketingInvestment','impressions','clicks', 'visits', 'conversions', 'deliveries',\"revenue_after_dis\"].sum()"
   ]
  },
  {
   "cell_type": "code",
   "execution_count": 15,
   "metadata": {},
   "outputs": [],
   "source": [
    "aggregated_attribution.reset_index(inplace=True)"
   ]
  },
  {
   "cell_type": "code",
   "execution_count": 16,
   "metadata": {},
   "outputs": [
    {
     "data": {
      "text/html": [
       "<div>\n",
       "<style scoped>\n",
       "    .dataframe tbody tr th:only-of-type {\n",
       "        vertical-align: middle;\n",
       "    }\n",
       "\n",
       "    .dataframe tbody tr th {\n",
       "        vertical-align: top;\n",
       "    }\n",
       "\n",
       "    .dataframe thead th {\n",
       "        text-align: right;\n",
       "    }\n",
       "</style>\n",
       "<table border=\"1\" class=\"dataframe\">\n",
       "  <thead>\n",
       "    <tr style=\"text-align: right;\">\n",
       "      <th></th>\n",
       "      <th>platformCode</th>\n",
       "      <th>channelCode</th>\n",
       "      <th>marketingInvestment</th>\n",
       "      <th>impressions</th>\n",
       "      <th>clicks</th>\n",
       "      <th>visits</th>\n",
       "      <th>conversions</th>\n",
       "      <th>deliveries</th>\n",
       "      <th>revenue_after_dis</th>\n",
       "    </tr>\n",
       "  </thead>\n",
       "  <tbody>\n",
       "    <tr>\n",
       "      <th>0</th>\n",
       "      <td>AdWords</td>\n",
       "      <td>adwords_bra</td>\n",
       "      <td>11016.44</td>\n",
       "      <td>32943</td>\n",
       "      <td>17830</td>\n",
       "      <td>20854</td>\n",
       "      <td>680</td>\n",
       "      <td>642</td>\n",
       "      <td>2634271</td>\n",
       "    </tr>\n",
       "    <tr>\n",
       "      <th>1</th>\n",
       "      <td>AdWords</td>\n",
       "      <td>adwords_dsa</td>\n",
       "      <td>655.35</td>\n",
       "      <td>2588</td>\n",
       "      <td>98</td>\n",
       "      <td>104</td>\n",
       "      <td>3</td>\n",
       "      <td>3</td>\n",
       "      <td>8953</td>\n",
       "    </tr>\n",
       "    <tr>\n",
       "      <th>2</th>\n",
       "      <td>AdWords</td>\n",
       "      <td>adwords_pla</td>\n",
       "      <td>762545.80</td>\n",
       "      <td>14586376</td>\n",
       "      <td>183696</td>\n",
       "      <td>189367</td>\n",
       "      <td>2078</td>\n",
       "      <td>2034</td>\n",
       "      <td>3760160</td>\n",
       "    </tr>\n",
       "    <tr>\n",
       "      <th>3</th>\n",
       "      <td>AdWords</td>\n",
       "      <td>adwords_rem</td>\n",
       "      <td>49948.62</td>\n",
       "      <td>1467433</td>\n",
       "      <td>16241</td>\n",
       "      <td>17719</td>\n",
       "      <td>114</td>\n",
       "      <td>112</td>\n",
       "      <td>265874</td>\n",
       "    </tr>\n",
       "    <tr>\n",
       "      <th>4</th>\n",
       "      <td>AdWords</td>\n",
       "      <td>adwords_sea</td>\n",
       "      <td>776.33</td>\n",
       "      <td>6647</td>\n",
       "      <td>339</td>\n",
       "      <td>491</td>\n",
       "      <td>12</td>\n",
       "      <td>12</td>\n",
       "      <td>17887</td>\n",
       "    </tr>\n",
       "  </tbody>\n",
       "</table>\n",
       "</div>"
      ],
      "text/plain": [
       "  platformCode  channelCode  marketingInvestment  impressions  clicks  visits  \\\n",
       "0      AdWords  adwords_bra             11016.44        32943   17830   20854   \n",
       "1      AdWords  adwords_dsa               655.35         2588      98     104   \n",
       "2      AdWords  adwords_pla            762545.80     14586376  183696  189367   \n",
       "3      AdWords  adwords_rem             49948.62      1467433   16241   17719   \n",
       "4      AdWords  adwords_sea               776.33         6647     339     491   \n",
       "\n",
       "   conversions  deliveries  revenue_after_dis  \n",
       "0          680         642            2634271  \n",
       "1            3           3               8953  \n",
       "2         2078        2034            3760160  \n",
       "3          114         112             265874  \n",
       "4           12          12              17887  "
      ]
     },
     "execution_count": 16,
     "metadata": {},
     "output_type": "execute_result"
    }
   ],
   "source": [
    "aggregated_attribution.head()"
   ]
  },
  {
   "attachments": {},
   "cell_type": "markdown",
   "metadata": {},
   "source": [
    "Click-through rate"
   ]
  },
  {
   "cell_type": "code",
   "execution_count": 17,
   "metadata": {},
   "outputs": [],
   "source": [
    "aggregated_attribution['CTR'] = aggregated_attribution['clicks']/aggregated_attribution['impressions']"
   ]
  },
  {
   "cell_type": "code",
   "execution_count": 18,
   "metadata": {},
   "outputs": [
    {
     "data": {
      "text/html": [
       "<div>\n",
       "<style scoped>\n",
       "    .dataframe tbody tr th:only-of-type {\n",
       "        vertical-align: middle;\n",
       "    }\n",
       "\n",
       "    .dataframe tbody tr th {\n",
       "        vertical-align: top;\n",
       "    }\n",
       "\n",
       "    .dataframe thead th {\n",
       "        text-align: right;\n",
       "    }\n",
       "</style>\n",
       "<table border=\"1\" class=\"dataframe\">\n",
       "  <thead>\n",
       "    <tr style=\"text-align: right;\">\n",
       "      <th></th>\n",
       "      <th>platformCode</th>\n",
       "      <th>channelCode</th>\n",
       "      <th>marketingInvestment</th>\n",
       "      <th>impressions</th>\n",
       "      <th>clicks</th>\n",
       "      <th>visits</th>\n",
       "      <th>conversions</th>\n",
       "      <th>deliveries</th>\n",
       "      <th>revenue_after_dis</th>\n",
       "      <th>CTR</th>\n",
       "    </tr>\n",
       "  </thead>\n",
       "  <tbody>\n",
       "    <tr>\n",
       "      <th>0</th>\n",
       "      <td>AdWords</td>\n",
       "      <td>adwords_bra</td>\n",
       "      <td>11016.44</td>\n",
       "      <td>32943</td>\n",
       "      <td>17830</td>\n",
       "      <td>20854</td>\n",
       "      <td>680</td>\n",
       "      <td>642</td>\n",
       "      <td>2634271</td>\n",
       "      <td>0.541238</td>\n",
       "    </tr>\n",
       "    <tr>\n",
       "      <th>1</th>\n",
       "      <td>AdWords</td>\n",
       "      <td>adwords_dsa</td>\n",
       "      <td>655.35</td>\n",
       "      <td>2588</td>\n",
       "      <td>98</td>\n",
       "      <td>104</td>\n",
       "      <td>3</td>\n",
       "      <td>3</td>\n",
       "      <td>8953</td>\n",
       "      <td>0.037867</td>\n",
       "    </tr>\n",
       "    <tr>\n",
       "      <th>2</th>\n",
       "      <td>AdWords</td>\n",
       "      <td>adwords_pla</td>\n",
       "      <td>762545.80</td>\n",
       "      <td>14586376</td>\n",
       "      <td>183696</td>\n",
       "      <td>189367</td>\n",
       "      <td>2078</td>\n",
       "      <td>2034</td>\n",
       "      <td>3760160</td>\n",
       "      <td>0.012594</td>\n",
       "    </tr>\n",
       "    <tr>\n",
       "      <th>3</th>\n",
       "      <td>AdWords</td>\n",
       "      <td>adwords_rem</td>\n",
       "      <td>49948.62</td>\n",
       "      <td>1467433</td>\n",
       "      <td>16241</td>\n",
       "      <td>17719</td>\n",
       "      <td>114</td>\n",
       "      <td>112</td>\n",
       "      <td>265874</td>\n",
       "      <td>0.011068</td>\n",
       "    </tr>\n",
       "    <tr>\n",
       "      <th>4</th>\n",
       "      <td>AdWords</td>\n",
       "      <td>adwords_sea</td>\n",
       "      <td>776.33</td>\n",
       "      <td>6647</td>\n",
       "      <td>339</td>\n",
       "      <td>491</td>\n",
       "      <td>12</td>\n",
       "      <td>12</td>\n",
       "      <td>17887</td>\n",
       "      <td>0.051000</td>\n",
       "    </tr>\n",
       "  </tbody>\n",
       "</table>\n",
       "</div>"
      ],
      "text/plain": [
       "  platformCode  channelCode  marketingInvestment  impressions  clicks  visits  \\\n",
       "0      AdWords  adwords_bra             11016.44        32943   17830   20854   \n",
       "1      AdWords  adwords_dsa               655.35         2588      98     104   \n",
       "2      AdWords  adwords_pla            762545.80     14586376  183696  189367   \n",
       "3      AdWords  adwords_rem             49948.62      1467433   16241   17719   \n",
       "4      AdWords  adwords_sea               776.33         6647     339     491   \n",
       "\n",
       "   conversions  deliveries  revenue_after_dis       CTR  \n",
       "0          680         642            2634271  0.541238  \n",
       "1            3           3               8953  0.037867  \n",
       "2         2078        2034            3760160  0.012594  \n",
       "3          114         112             265874  0.011068  \n",
       "4           12          12              17887  0.051000  "
      ]
     },
     "execution_count": 18,
     "metadata": {},
     "output_type": "execute_result"
    }
   ],
   "source": [
    "aggregated_attribution.head()"
   ]
  },
  {
   "attachments": {},
   "cell_type": "markdown",
   "metadata": {},
   "source": [
    "Conversion rate"
   ]
  },
  {
   "cell_type": "code",
   "execution_count": 19,
   "metadata": {},
   "outputs": [],
   "source": [
    "aggregated_attribution['CR'] = aggregated_attribution['conversions']/aggregated_attribution['clicks']"
   ]
  },
  {
   "cell_type": "code",
   "execution_count": 20,
   "metadata": {},
   "outputs": [
    {
     "data": {
      "text/html": [
       "<div>\n",
       "<style scoped>\n",
       "    .dataframe tbody tr th:only-of-type {\n",
       "        vertical-align: middle;\n",
       "    }\n",
       "\n",
       "    .dataframe tbody tr th {\n",
       "        vertical-align: top;\n",
       "    }\n",
       "\n",
       "    .dataframe thead th {\n",
       "        text-align: right;\n",
       "    }\n",
       "</style>\n",
       "<table border=\"1\" class=\"dataframe\">\n",
       "  <thead>\n",
       "    <tr style=\"text-align: right;\">\n",
       "      <th></th>\n",
       "      <th>platformCode</th>\n",
       "      <th>channelCode</th>\n",
       "      <th>marketingInvestment</th>\n",
       "      <th>impressions</th>\n",
       "      <th>clicks</th>\n",
       "      <th>visits</th>\n",
       "      <th>conversions</th>\n",
       "      <th>deliveries</th>\n",
       "      <th>revenue_after_dis</th>\n",
       "      <th>CTR</th>\n",
       "      <th>CR</th>\n",
       "    </tr>\n",
       "  </thead>\n",
       "  <tbody>\n",
       "    <tr>\n",
       "      <th>0</th>\n",
       "      <td>AdWords</td>\n",
       "      <td>adwords_bra</td>\n",
       "      <td>11016.44</td>\n",
       "      <td>32943</td>\n",
       "      <td>17830</td>\n",
       "      <td>20854</td>\n",
       "      <td>680</td>\n",
       "      <td>642</td>\n",
       "      <td>2634271</td>\n",
       "      <td>0.541238</td>\n",
       "      <td>0.038138</td>\n",
       "    </tr>\n",
       "    <tr>\n",
       "      <th>1</th>\n",
       "      <td>AdWords</td>\n",
       "      <td>adwords_dsa</td>\n",
       "      <td>655.35</td>\n",
       "      <td>2588</td>\n",
       "      <td>98</td>\n",
       "      <td>104</td>\n",
       "      <td>3</td>\n",
       "      <td>3</td>\n",
       "      <td>8953</td>\n",
       "      <td>0.037867</td>\n",
       "      <td>0.030612</td>\n",
       "    </tr>\n",
       "    <tr>\n",
       "      <th>2</th>\n",
       "      <td>AdWords</td>\n",
       "      <td>adwords_pla</td>\n",
       "      <td>762545.80</td>\n",
       "      <td>14586376</td>\n",
       "      <td>183696</td>\n",
       "      <td>189367</td>\n",
       "      <td>2078</td>\n",
       "      <td>2034</td>\n",
       "      <td>3760160</td>\n",
       "      <td>0.012594</td>\n",
       "      <td>0.011312</td>\n",
       "    </tr>\n",
       "    <tr>\n",
       "      <th>3</th>\n",
       "      <td>AdWords</td>\n",
       "      <td>adwords_rem</td>\n",
       "      <td>49948.62</td>\n",
       "      <td>1467433</td>\n",
       "      <td>16241</td>\n",
       "      <td>17719</td>\n",
       "      <td>114</td>\n",
       "      <td>112</td>\n",
       "      <td>265874</td>\n",
       "      <td>0.011068</td>\n",
       "      <td>0.007019</td>\n",
       "    </tr>\n",
       "    <tr>\n",
       "      <th>4</th>\n",
       "      <td>AdWords</td>\n",
       "      <td>adwords_sea</td>\n",
       "      <td>776.33</td>\n",
       "      <td>6647</td>\n",
       "      <td>339</td>\n",
       "      <td>491</td>\n",
       "      <td>12</td>\n",
       "      <td>12</td>\n",
       "      <td>17887</td>\n",
       "      <td>0.051000</td>\n",
       "      <td>0.035398</td>\n",
       "    </tr>\n",
       "  </tbody>\n",
       "</table>\n",
       "</div>"
      ],
      "text/plain": [
       "  platformCode  channelCode  marketingInvestment  impressions  clicks  visits  \\\n",
       "0      AdWords  adwords_bra             11016.44        32943   17830   20854   \n",
       "1      AdWords  adwords_dsa               655.35         2588      98     104   \n",
       "2      AdWords  adwords_pla            762545.80     14586376  183696  189367   \n",
       "3      AdWords  adwords_rem             49948.62      1467433   16241   17719   \n",
       "4      AdWords  adwords_sea               776.33         6647     339     491   \n",
       "\n",
       "   conversions  deliveries  revenue_after_dis       CTR        CR  \n",
       "0          680         642            2634271  0.541238  0.038138  \n",
       "1            3           3               8953  0.037867  0.030612  \n",
       "2         2078        2034            3760160  0.012594  0.011312  \n",
       "3          114         112             265874  0.011068  0.007019  \n",
       "4           12          12              17887  0.051000  0.035398  "
      ]
     },
     "execution_count": 20,
     "metadata": {},
     "output_type": "execute_result"
    }
   ],
   "source": [
    "aggregated_attribution.head()"
   ]
  },
  {
   "attachments": {},
   "cell_type": "markdown",
   "metadata": {},
   "source": [
    "Cost per Lead"
   ]
  },
  {
   "cell_type": "code",
   "execution_count": 21,
   "metadata": {},
   "outputs": [],
   "source": [
    "aggregated_attribution['CPL'] = aggregated_attribution['marketingInvestment']/aggregated_attribution['clicks']"
   ]
  },
  {
   "cell_type": "code",
   "execution_count": 22,
   "metadata": {},
   "outputs": [
    {
     "data": {
      "text/html": [
       "<div>\n",
       "<style scoped>\n",
       "    .dataframe tbody tr th:only-of-type {\n",
       "        vertical-align: middle;\n",
       "    }\n",
       "\n",
       "    .dataframe tbody tr th {\n",
       "        vertical-align: top;\n",
       "    }\n",
       "\n",
       "    .dataframe thead th {\n",
       "        text-align: right;\n",
       "    }\n",
       "</style>\n",
       "<table border=\"1\" class=\"dataframe\">\n",
       "  <thead>\n",
       "    <tr style=\"text-align: right;\">\n",
       "      <th></th>\n",
       "      <th>platformCode</th>\n",
       "      <th>channelCode</th>\n",
       "      <th>marketingInvestment</th>\n",
       "      <th>impressions</th>\n",
       "      <th>clicks</th>\n",
       "      <th>visits</th>\n",
       "      <th>conversions</th>\n",
       "      <th>deliveries</th>\n",
       "      <th>revenue_after_dis</th>\n",
       "      <th>CTR</th>\n",
       "      <th>CR</th>\n",
       "      <th>CPL</th>\n",
       "    </tr>\n",
       "  </thead>\n",
       "  <tbody>\n",
       "    <tr>\n",
       "      <th>0</th>\n",
       "      <td>AdWords</td>\n",
       "      <td>adwords_bra</td>\n",
       "      <td>11016.44</td>\n",
       "      <td>32943</td>\n",
       "      <td>17830</td>\n",
       "      <td>20854</td>\n",
       "      <td>680</td>\n",
       "      <td>642</td>\n",
       "      <td>2634271</td>\n",
       "      <td>0.541238</td>\n",
       "      <td>0.038138</td>\n",
       "      <td>0.617860</td>\n",
       "    </tr>\n",
       "    <tr>\n",
       "      <th>1</th>\n",
       "      <td>AdWords</td>\n",
       "      <td>adwords_dsa</td>\n",
       "      <td>655.35</td>\n",
       "      <td>2588</td>\n",
       "      <td>98</td>\n",
       "      <td>104</td>\n",
       "      <td>3</td>\n",
       "      <td>3</td>\n",
       "      <td>8953</td>\n",
       "      <td>0.037867</td>\n",
       "      <td>0.030612</td>\n",
       "      <td>6.687245</td>\n",
       "    </tr>\n",
       "    <tr>\n",
       "      <th>2</th>\n",
       "      <td>AdWords</td>\n",
       "      <td>adwords_pla</td>\n",
       "      <td>762545.80</td>\n",
       "      <td>14586376</td>\n",
       "      <td>183696</td>\n",
       "      <td>189367</td>\n",
       "      <td>2078</td>\n",
       "      <td>2034</td>\n",
       "      <td>3760160</td>\n",
       "      <td>0.012594</td>\n",
       "      <td>0.011312</td>\n",
       "      <td>4.151129</td>\n",
       "    </tr>\n",
       "    <tr>\n",
       "      <th>3</th>\n",
       "      <td>AdWords</td>\n",
       "      <td>adwords_rem</td>\n",
       "      <td>49948.62</td>\n",
       "      <td>1467433</td>\n",
       "      <td>16241</td>\n",
       "      <td>17719</td>\n",
       "      <td>114</td>\n",
       "      <td>112</td>\n",
       "      <td>265874</td>\n",
       "      <td>0.011068</td>\n",
       "      <td>0.007019</td>\n",
       "      <td>3.075465</td>\n",
       "    </tr>\n",
       "    <tr>\n",
       "      <th>4</th>\n",
       "      <td>AdWords</td>\n",
       "      <td>adwords_sea</td>\n",
       "      <td>776.33</td>\n",
       "      <td>6647</td>\n",
       "      <td>339</td>\n",
       "      <td>491</td>\n",
       "      <td>12</td>\n",
       "      <td>12</td>\n",
       "      <td>17887</td>\n",
       "      <td>0.051000</td>\n",
       "      <td>0.035398</td>\n",
       "      <td>2.290059</td>\n",
       "    </tr>\n",
       "  </tbody>\n",
       "</table>\n",
       "</div>"
      ],
      "text/plain": [
       "  platformCode  channelCode  marketingInvestment  impressions  clicks  visits  \\\n",
       "0      AdWords  adwords_bra             11016.44        32943   17830   20854   \n",
       "1      AdWords  adwords_dsa               655.35         2588      98     104   \n",
       "2      AdWords  adwords_pla            762545.80     14586376  183696  189367   \n",
       "3      AdWords  adwords_rem             49948.62      1467433   16241   17719   \n",
       "4      AdWords  adwords_sea               776.33         6647     339     491   \n",
       "\n",
       "   conversions  deliveries  revenue_after_dis       CTR        CR       CPL  \n",
       "0          680         642            2634271  0.541238  0.038138  0.617860  \n",
       "1            3           3               8953  0.037867  0.030612  6.687245  \n",
       "2         2078        2034            3760160  0.012594  0.011312  4.151129  \n",
       "3          114         112             265874  0.011068  0.007019  3.075465  \n",
       "4           12          12              17887  0.051000  0.035398  2.290059  "
      ]
     },
     "execution_count": 22,
     "metadata": {},
     "output_type": "execute_result"
    }
   ],
   "source": [
    "aggregated_attribution.head()"
   ]
  },
  {
   "attachments": {},
   "cell_type": "markdown",
   "metadata": {},
   "source": [
    "Cost per Acquisition"
   ]
  },
  {
   "cell_type": "code",
   "execution_count": 23,
   "metadata": {},
   "outputs": [],
   "source": [
    "aggregated_attribution['CPA'] = aggregated_attribution['marketingInvestment']/aggregated_attribution['conversions']"
   ]
  },
  {
   "cell_type": "code",
   "execution_count": 24,
   "metadata": {},
   "outputs": [
    {
     "data": {
      "text/html": [
       "<div>\n",
       "<style scoped>\n",
       "    .dataframe tbody tr th:only-of-type {\n",
       "        vertical-align: middle;\n",
       "    }\n",
       "\n",
       "    .dataframe tbody tr th {\n",
       "        vertical-align: top;\n",
       "    }\n",
       "\n",
       "    .dataframe thead th {\n",
       "        text-align: right;\n",
       "    }\n",
       "</style>\n",
       "<table border=\"1\" class=\"dataframe\">\n",
       "  <thead>\n",
       "    <tr style=\"text-align: right;\">\n",
       "      <th></th>\n",
       "      <th>platformCode</th>\n",
       "      <th>channelCode</th>\n",
       "      <th>marketingInvestment</th>\n",
       "      <th>impressions</th>\n",
       "      <th>clicks</th>\n",
       "      <th>visits</th>\n",
       "      <th>conversions</th>\n",
       "      <th>deliveries</th>\n",
       "      <th>revenue_after_dis</th>\n",
       "      <th>CTR</th>\n",
       "      <th>CR</th>\n",
       "      <th>CPL</th>\n",
       "      <th>CPA</th>\n",
       "    </tr>\n",
       "  </thead>\n",
       "  <tbody>\n",
       "    <tr>\n",
       "      <th>0</th>\n",
       "      <td>AdWords</td>\n",
       "      <td>adwords_bra</td>\n",
       "      <td>11016.44</td>\n",
       "      <td>32943</td>\n",
       "      <td>17830</td>\n",
       "      <td>20854</td>\n",
       "      <td>680</td>\n",
       "      <td>642</td>\n",
       "      <td>2634271</td>\n",
       "      <td>0.541238</td>\n",
       "      <td>0.038138</td>\n",
       "      <td>0.617860</td>\n",
       "      <td>16.200647</td>\n",
       "    </tr>\n",
       "    <tr>\n",
       "      <th>1</th>\n",
       "      <td>AdWords</td>\n",
       "      <td>adwords_dsa</td>\n",
       "      <td>655.35</td>\n",
       "      <td>2588</td>\n",
       "      <td>98</td>\n",
       "      <td>104</td>\n",
       "      <td>3</td>\n",
       "      <td>3</td>\n",
       "      <td>8953</td>\n",
       "      <td>0.037867</td>\n",
       "      <td>0.030612</td>\n",
       "      <td>6.687245</td>\n",
       "      <td>218.450000</td>\n",
       "    </tr>\n",
       "    <tr>\n",
       "      <th>2</th>\n",
       "      <td>AdWords</td>\n",
       "      <td>adwords_pla</td>\n",
       "      <td>762545.80</td>\n",
       "      <td>14586376</td>\n",
       "      <td>183696</td>\n",
       "      <td>189367</td>\n",
       "      <td>2078</td>\n",
       "      <td>2034</td>\n",
       "      <td>3760160</td>\n",
       "      <td>0.012594</td>\n",
       "      <td>0.011312</td>\n",
       "      <td>4.151129</td>\n",
       "      <td>366.961405</td>\n",
       "    </tr>\n",
       "    <tr>\n",
       "      <th>3</th>\n",
       "      <td>AdWords</td>\n",
       "      <td>adwords_rem</td>\n",
       "      <td>49948.62</td>\n",
       "      <td>1467433</td>\n",
       "      <td>16241</td>\n",
       "      <td>17719</td>\n",
       "      <td>114</td>\n",
       "      <td>112</td>\n",
       "      <td>265874</td>\n",
       "      <td>0.011068</td>\n",
       "      <td>0.007019</td>\n",
       "      <td>3.075465</td>\n",
       "      <td>438.145789</td>\n",
       "    </tr>\n",
       "    <tr>\n",
       "      <th>4</th>\n",
       "      <td>AdWords</td>\n",
       "      <td>adwords_sea</td>\n",
       "      <td>776.33</td>\n",
       "      <td>6647</td>\n",
       "      <td>339</td>\n",
       "      <td>491</td>\n",
       "      <td>12</td>\n",
       "      <td>12</td>\n",
       "      <td>17887</td>\n",
       "      <td>0.051000</td>\n",
       "      <td>0.035398</td>\n",
       "      <td>2.290059</td>\n",
       "      <td>64.694167</td>\n",
       "    </tr>\n",
       "  </tbody>\n",
       "</table>\n",
       "</div>"
      ],
      "text/plain": [
       "  platformCode  channelCode  marketingInvestment  impressions  clicks  visits  \\\n",
       "0      AdWords  adwords_bra             11016.44        32943   17830   20854   \n",
       "1      AdWords  adwords_dsa               655.35         2588      98     104   \n",
       "2      AdWords  adwords_pla            762545.80     14586376  183696  189367   \n",
       "3      AdWords  adwords_rem             49948.62      1467433   16241   17719   \n",
       "4      AdWords  adwords_sea               776.33         6647     339     491   \n",
       "\n",
       "   conversions  deliveries  revenue_after_dis       CTR        CR       CPL  \\\n",
       "0          680         642            2634271  0.541238  0.038138  0.617860   \n",
       "1            3           3               8953  0.037867  0.030612  6.687245   \n",
       "2         2078        2034            3760160  0.012594  0.011312  4.151129   \n",
       "3          114         112             265874  0.011068  0.007019  3.075465   \n",
       "4           12          12              17887  0.051000  0.035398  2.290059   \n",
       "\n",
       "          CPA  \n",
       "0   16.200647  \n",
       "1  218.450000  \n",
       "2  366.961405  \n",
       "3  438.145789  \n",
       "4   64.694167  "
      ]
     },
     "execution_count": 24,
     "metadata": {},
     "output_type": "execute_result"
    }
   ],
   "source": [
    "aggregated_attribution.head()"
   ]
  },
  {
   "attachments": {},
   "cell_type": "markdown",
   "metadata": {},
   "source": [
    "Return on Investment"
   ]
  },
  {
   "cell_type": "code",
   "execution_count": 25,
   "metadata": {},
   "outputs": [],
   "source": [
    "aggregated_attribution['ROI'] = aggregated_attribution['revenue_after_dis']/aggregated_attribution['marketingInvestment']"
   ]
  },
  {
   "cell_type": "code",
   "execution_count": 26,
   "metadata": {},
   "outputs": [
    {
     "data": {
      "text/html": [
       "<div>\n",
       "<style scoped>\n",
       "    .dataframe tbody tr th:only-of-type {\n",
       "        vertical-align: middle;\n",
       "    }\n",
       "\n",
       "    .dataframe tbody tr th {\n",
       "        vertical-align: top;\n",
       "    }\n",
       "\n",
       "    .dataframe thead th {\n",
       "        text-align: right;\n",
       "    }\n",
       "</style>\n",
       "<table border=\"1\" class=\"dataframe\">\n",
       "  <thead>\n",
       "    <tr style=\"text-align: right;\">\n",
       "      <th></th>\n",
       "      <th>platformCode</th>\n",
       "      <th>channelCode</th>\n",
       "      <th>marketingInvestment</th>\n",
       "      <th>impressions</th>\n",
       "      <th>clicks</th>\n",
       "      <th>visits</th>\n",
       "      <th>conversions</th>\n",
       "      <th>deliveries</th>\n",
       "      <th>revenue_after_dis</th>\n",
       "      <th>CTR</th>\n",
       "      <th>CR</th>\n",
       "      <th>CPL</th>\n",
       "      <th>CPA</th>\n",
       "      <th>ROI</th>\n",
       "    </tr>\n",
       "  </thead>\n",
       "  <tbody>\n",
       "    <tr>\n",
       "      <th>0</th>\n",
       "      <td>AdWords</td>\n",
       "      <td>adwords_bra</td>\n",
       "      <td>11016.44</td>\n",
       "      <td>32943</td>\n",
       "      <td>17830</td>\n",
       "      <td>20854</td>\n",
       "      <td>680</td>\n",
       "      <td>642</td>\n",
       "      <td>2634271</td>\n",
       "      <td>0.541238</td>\n",
       "      <td>0.038138</td>\n",
       "      <td>0.617860</td>\n",
       "      <td>16.200647</td>\n",
       "      <td>239.121803</td>\n",
       "    </tr>\n",
       "    <tr>\n",
       "      <th>1</th>\n",
       "      <td>AdWords</td>\n",
       "      <td>adwords_dsa</td>\n",
       "      <td>655.35</td>\n",
       "      <td>2588</td>\n",
       "      <td>98</td>\n",
       "      <td>104</td>\n",
       "      <td>3</td>\n",
       "      <td>3</td>\n",
       "      <td>8953</td>\n",
       "      <td>0.037867</td>\n",
       "      <td>0.030612</td>\n",
       "      <td>6.687245</td>\n",
       "      <td>218.450000</td>\n",
       "      <td>13.661402</td>\n",
       "    </tr>\n",
       "    <tr>\n",
       "      <th>2</th>\n",
       "      <td>AdWords</td>\n",
       "      <td>adwords_pla</td>\n",
       "      <td>762545.80</td>\n",
       "      <td>14586376</td>\n",
       "      <td>183696</td>\n",
       "      <td>189367</td>\n",
       "      <td>2078</td>\n",
       "      <td>2034</td>\n",
       "      <td>3760160</td>\n",
       "      <td>0.012594</td>\n",
       "      <td>0.011312</td>\n",
       "      <td>4.151129</td>\n",
       "      <td>366.961405</td>\n",
       "      <td>4.931061</td>\n",
       "    </tr>\n",
       "    <tr>\n",
       "      <th>3</th>\n",
       "      <td>AdWords</td>\n",
       "      <td>adwords_rem</td>\n",
       "      <td>49948.62</td>\n",
       "      <td>1467433</td>\n",
       "      <td>16241</td>\n",
       "      <td>17719</td>\n",
       "      <td>114</td>\n",
       "      <td>112</td>\n",
       "      <td>265874</td>\n",
       "      <td>0.011068</td>\n",
       "      <td>0.007019</td>\n",
       "      <td>3.075465</td>\n",
       "      <td>438.145789</td>\n",
       "      <td>5.322950</td>\n",
       "    </tr>\n",
       "    <tr>\n",
       "      <th>4</th>\n",
       "      <td>AdWords</td>\n",
       "      <td>adwords_sea</td>\n",
       "      <td>776.33</td>\n",
       "      <td>6647</td>\n",
       "      <td>339</td>\n",
       "      <td>491</td>\n",
       "      <td>12</td>\n",
       "      <td>12</td>\n",
       "      <td>17887</td>\n",
       "      <td>0.051000</td>\n",
       "      <td>0.035398</td>\n",
       "      <td>2.290059</td>\n",
       "      <td>64.694167</td>\n",
       "      <td>23.040460</td>\n",
       "    </tr>\n",
       "  </tbody>\n",
       "</table>\n",
       "</div>"
      ],
      "text/plain": [
       "  platformCode  channelCode  marketingInvestment  impressions  clicks  visits  \\\n",
       "0      AdWords  adwords_bra             11016.44        32943   17830   20854   \n",
       "1      AdWords  adwords_dsa               655.35         2588      98     104   \n",
       "2      AdWords  adwords_pla            762545.80     14586376  183696  189367   \n",
       "3      AdWords  adwords_rem             49948.62      1467433   16241   17719   \n",
       "4      AdWords  adwords_sea               776.33         6647     339     491   \n",
       "\n",
       "   conversions  deliveries  revenue_after_dis       CTR        CR       CPL  \\\n",
       "0          680         642            2634271  0.541238  0.038138  0.617860   \n",
       "1            3           3               8953  0.037867  0.030612  6.687245   \n",
       "2         2078        2034            3760160  0.012594  0.011312  4.151129   \n",
       "3          114         112             265874  0.011068  0.007019  3.075465   \n",
       "4           12          12              17887  0.051000  0.035398  2.290059   \n",
       "\n",
       "          CPA         ROI  \n",
       "0   16.200647  239.121803  \n",
       "1  218.450000   13.661402  \n",
       "2  366.961405    4.931061  \n",
       "3  438.145789    5.322950  \n",
       "4   64.694167   23.040460  "
      ]
     },
     "execution_count": 26,
     "metadata": {},
     "output_type": "execute_result"
    }
   ],
   "source": [
    "aggregated_attribution.head()"
   ]
  },
  {
   "cell_type": "code",
   "execution_count": 27,
   "metadata": {},
   "outputs": [
    {
     "data": {
      "text/plain": [
       "13"
      ]
     },
     "execution_count": 27,
     "metadata": {},
     "output_type": "execute_result"
    }
   ],
   "source": [
    "aggregated_attribution['channelCode'].nunique()"
   ]
  },
  {
   "cell_type": "code",
   "execution_count": 28,
   "metadata": {},
   "outputs": [
    {
     "data": {
      "text/plain": [
       "array(['adwords_bra', 'adwords_dsa', 'adwords_pla', 'adwords_rem',\n",
       "       'adwords_sea', 'zbozi', 'heureka', 'rtbhouse', 'emailing',\n",
       "       'sklik_bra', 'sklik_pla', 'sklik_rem', 'sklik_sea'], dtype=object)"
      ]
     },
     "execution_count": 28,
     "metadata": {},
     "output_type": "execute_result"
    }
   ],
   "source": [
    "aggregated_attribution['channelCode'].unique()\n"
   ]
  },
  {
   "cell_type": "code",
   "execution_count": 29,
   "metadata": {},
   "outputs": [
    {
     "name": "stdout",
     "output_type": "stream",
     "text": [
      "<class 'pandas.core.frame.DataFrame'>\n",
      "RangeIndex: 14 entries, 0 to 13\n",
      "Data columns (total 14 columns):\n",
      " #   Column               Non-Null Count  Dtype  \n",
      "---  ------               --------------  -----  \n",
      " 0   platformCode         14 non-null     object \n",
      " 1   channelCode          14 non-null     object \n",
      " 2   marketingInvestment  14 non-null     float64\n",
      " 3   impressions          14 non-null     int64  \n",
      " 4   clicks               14 non-null     int64  \n",
      " 5   visits               14 non-null     int64  \n",
      " 6   conversions          14 non-null     int64  \n",
      " 7   deliveries           14 non-null     int64  \n",
      " 8   revenue_after_dis    14 non-null     int64  \n",
      " 9   CTR                  13 non-null     float64\n",
      " 10  CR                   14 non-null     float64\n",
      " 11  CPL                  14 non-null     float64\n",
      " 12  CPA                  14 non-null     float64\n",
      " 13  ROI                  14 non-null     float64\n",
      "dtypes: float64(6), int64(6), object(2)\n",
      "memory usage: 1.7+ KB\n"
     ]
    }
   ],
   "source": [
    "aggregated_attribution.info()"
   ]
  },
  {
   "attachments": {},
   "cell_type": "markdown",
   "metadata": {},
   "source": [
    "VISUALIZATION OF METRICS"
   ]
  },
  {
   "cell_type": "code",
   "execution_count": 33,
   "metadata": {},
   "outputs": [
    {
     "data": {
      "image/png": "[encoded data removed]",
      "text/plain": [
       "<Figure size 1296x432 with 1 Axes>"
      ]
     },
     "metadata": {},
     "output_type": "display_data"
    },
    {
     "data": {
      "image/png": "[encoded data removed]",
      "text/plain": [
       "<Figure size 1296x432 with 1 Axes>"
      ]
     },
     "metadata": {},
     "output_type": "display_data"
    },
    {
     "data": {
      "image/png": "[encoded data removed]",
      "text/plain": [
       "<Figure size 1296x432 with 1 Axes>"
      ]
     },
     "metadata": {},
     "output_type": "display_data"
    },
    {
     "data": {
      "image/png": "[encoded data removed]",
      "text/plain": [
       "<Figure size 1296x432 with 1 Axes>"
      ]
     },
     "metadata": {},
     "output_type": "display_data"
    },
    {
     "data": {
      "image/png": "[encoded data removed]",
      "text/plain": [
       "<Figure size 1296x432 with 1 Axes>"
      ]
     },
     "metadata": {},
     "output_type": "display_data"
    }
   ],
   "source": [
    "columns = ['CTR', 'CR', 'CPL', 'CPA', 'ROI']\n",
    "for _ in columns:\n",
    "    fig, ax = plt.subplots(figsize=(18, 6))\n",
    "    sns.set_theme(style=\"darkgrid\")\n",
    "    graph1 = sns.barplot(data = aggregated_attribution, x= 'channelCode', y=_,ax = ax, color= 'blue')\n",
    "    ax.tick_params(labelrotation=60)\n",
    "    for bar in graph1.patches:\n",
    "        graph1.annotate(format(bar.get_height(), '.3f'),\n",
    "                    (bar.get_x() + bar.get_width() / 2,\n",
    "                        bar.get_height()), ha='center', va='center',\n",
    "                    size=15, xytext=(0, 8),\n",
    "                    textcoords='offset points')\n",
    "    plt.title(_)\n",
    "    plt.plot()"
   ]
  },
  {
   "attachments": {},
   "cell_type": "markdown",
   "metadata": {},
   "source": [
    "Do channels with high customer acquisition cost have the highest ROI?"
   ]
  },
  {
   "cell_type": "code",
   "execution_count": 36,
   "metadata": {},
   "outputs": [
    {
     "data": {
      "text/html": [
       "<div>\n",
       "<style scoped>\n",
       "    .dataframe tbody tr th:only-of-type {\n",
       "        vertical-align: middle;\n",
       "    }\n",
       "\n",
       "    .dataframe tbody tr th {\n",
       "        vertical-align: top;\n",
       "    }\n",
       "\n",
       "    .dataframe thead th {\n",
       "        text-align: right;\n",
       "    }\n",
       "</style>\n",
       "<table border=\"1\" class=\"dataframe\">\n",
       "  <thead>\n",
       "    <tr style=\"text-align: right;\">\n",
       "      <th></th>\n",
       "      <th>CPA</th>\n",
       "      <th>ROI</th>\n",
       "    </tr>\n",
       "  </thead>\n",
       "  <tbody>\n",
       "    <tr>\n",
       "      <th>CPA</th>\n",
       "      <td>1.000000</td>\n",
       "      <td>-0.588707</td>\n",
       "    </tr>\n",
       "    <tr>\n",
       "      <th>ROI</th>\n",
       "      <td>-0.588707</td>\n",
       "      <td>1.000000</td>\n",
       "    </tr>\n",
       "  </tbody>\n",
       "</table>\n",
       "</div>"
      ],
      "text/plain": [
       "          CPA       ROI\n",
       "CPA  1.000000 -0.588707\n",
       "ROI -0.588707  1.000000"
      ]
     },
     "execution_count": 36,
     "metadata": {},
     "output_type": "execute_result"
    }
   ],
   "source": [
    "# correlation between CPA and ROI\n",
    "cost_vs_rev = aggregated_attribution[['channelCode', 'CPA', 'ROI']]\n",
    "cost_vs_rev.corr()"
   ]
  },
  {
   "cell_type": "code",
   "execution_count": 39,
   "metadata": {},
   "outputs": [
    {
     "data": {
      "text/plain": [
       "[]"
      ]
     },
     "execution_count": 39,
     "metadata": {},
     "output_type": "execute_result"
    },
    {
     "data": {
      "image/png": "[encoded data removed]",
      "text/plain": [
       "<Figure size 1296x432 with 1 Axes>"
      ]
     },
     "metadata": {},
     "output_type": "display_data"
    }
   ],
   "source": [
    "fig, ax = plt.subplots(figsize=(18, 6))\n",
    "sns.scatterplot(x='CPA', y='ROI', data =cost_vs_rev, ax = ax)\n",
    "plt.plot()"
   ]
  },
  {
   "attachments": {},
   "cell_type": "markdown",
   "metadata": {},
   "source": [
    "Is there a corelation between clickthrough rates and coversion rate"
   ]
  },
  {
   "cell_type": "code",
   "execution_count": 40,
   "metadata": {},
   "outputs": [
    {
     "data": {
      "text/plain": [
       "[]"
      ]
     },
     "execution_count": 40,
     "metadata": {},
     "output_type": "execute_result"
    },
    {
     "data": {
      "image/png": "[encoded data removed]",
      "text/plain": [
       "<Figure size 1296x432 with 1 Axes>"
      ]
     },
     "metadata": {},
     "output_type": "display_data"
    }
   ],
   "source": [
    "fig, ax = plt.subplots(figsize=(18, 6))\n",
    "sns.scatterplot(x='CTR', y='CR', data =aggregated_attribution, ax = ax)\n",
    "plt.plot()"
   ]
  },
  {
   "cell_type": "code",
   "execution_count": 41,
   "metadata": {},
   "outputs": [
    {
     "data": {
      "text/html": [
       "<div>\n",
       "<style scoped>\n",
       "    .dataframe tbody tr th:only-of-type {\n",
       "        vertical-align: middle;\n",
       "    }\n",
       "\n",
       "    .dataframe tbody tr th {\n",
       "        vertical-align: top;\n",
       "    }\n",
       "\n",
       "    .dataframe thead th {\n",
       "        text-align: right;\n",
       "    }\n",
       "</style>\n",
       "<table border=\"1\" class=\"dataframe\">\n",
       "  <thead>\n",
       "    <tr style=\"text-align: right;\">\n",
       "      <th></th>\n",
       "      <th>CTR</th>\n",
       "      <th>CR</th>\n",
       "    </tr>\n",
       "  </thead>\n",
       "  <tbody>\n",
       "    <tr>\n",
       "      <th>CTR</th>\n",
       "      <td>1.000000</td>\n",
       "      <td>-0.029986</td>\n",
       "    </tr>\n",
       "    <tr>\n",
       "      <th>CR</th>\n",
       "      <td>-0.029986</td>\n",
       "      <td>1.000000</td>\n",
       "    </tr>\n",
       "  </tbody>\n",
       "</table>\n",
       "</div>"
      ],
      "text/plain": [
       "          CTR        CR\n",
       "CTR  1.000000 -0.029986\n",
       "CR  -0.029986  1.000000"
      ]
     },
     "execution_count": 41,
     "metadata": {},
     "output_type": "execute_result"
    }
   ],
   "source": [
    "leads_vs_conversions = aggregated_attribution[['channelCode', 'CTR', 'CR']]\n",
    "leads_vs_conversions.corr()"
   ]
  },
  {
   "attachments": {},
   "cell_type": "markdown",
   "metadata": {},
   "source": [
    "As observed, there are varying relationships between the various metrics of each channel. This means that each advertising channel has its advantages ie some reaches more users in terms of brand exposure, some target likely leads/conversions, while some target potential customers with probable high lifetime value. \n",
    "Thus, having an optimized marketing mix is what will provide the best returns for the business."
   ]
  },
  {
   "cell_type": "code",
   "execution_count": null,
   "metadata": {},
   "outputs": [],
   "source": []
  }
 ],
 "metadata": {
  "kernelspec": {
   "display_name": ".venv",
   "language": "python",
   "name": "python3"
  },
  "language_info": {
   "codemirror_mode": {
    "name": "ipython",
    "version": 3
   },
   "file_extension": ".py",
   "mimetype": "text/x-python",
   "name": "python",
   "nbconvert_exporter": "python",
   "pygments_lexer": "ipython3",
   "version": "3.9.13"
  },
  "orig_nbformat": 4,
  "vscode": {
   "interpreter": {
    "hash": "67ba834985650b0e241dafd49e566973c81e00d38b33bee26a51ea82c3974aa9"
   }
  }
 },
 "nbformat": 4,
 "nbformat_minor": 2
}
