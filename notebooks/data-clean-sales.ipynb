{
 "cells": [
  {
   "cell_type": "code",
   "execution_count": 1,
   "metadata": {},
   "outputs": [],
   "source": [
    "import pandas as pd \n",
    "import numpy as  np  "
   ]
  },
  {
   "cell_type": "code",
   "execution_count": 2,
   "metadata": {},
   "outputs": [],
   "source": [
    "data = pd.read_csv(r'C:\\\\Users\\\\HP\\\\Downloads\\\\mybooks\\\\project\\\\ads-proj\\\\ad-sales-ml-proj\\\\data\\\\WebTransactionsCSV.csv', sep=';', header= 0)"
   ]
  },
  {
   "cell_type": "code",
   "execution_count": 3,
   "metadata": {},
   "outputs": [
    {
     "data": {
      "text/html": [
       "<div>\n",
       "<style scoped>\n",
       "    .dataframe tbody tr th:only-of-type {\n",
       "        vertical-align: middle;\n",
       "    }\n",
       "\n",
       "    .dataframe tbody tr th {\n",
       "        vertical-align: top;\n",
       "    }\n",
       "\n",
       "    .dataframe thead th {\n",
       "        text-align: right;\n",
       "    }\n",
       "</style>\n",
       "<table border=\"1\" class=\"dataframe\">\n",
       "  <thead>\n",
       "    <tr style=\"text-align: right;\">\n",
       "      <th></th>\n",
       "      <th>orderId</th>\n",
       "      <th>createdAt</th>\n",
       "      <th>platformId</th>\n",
       "      <th>platformCode</th>\n",
       "      <th>channelId</th>\n",
       "      <th>channelCode</th>\n",
       "      <th>tagCodes</th>\n",
       "      <th>adCode</th>\n",
       "      <th>adGroup</th>\n",
       "      <th>adName</th>\n",
       "      <th>...</th>\n",
       "      <th>adSearchQuery</th>\n",
       "      <th>adProductCode</th>\n",
       "      <th>deviceCategory</th>\n",
       "      <th>total</th>\n",
       "      <th>tax</th>\n",
       "      <th>delivery</th>\n",
       "      <th>revenue</th>\n",
       "      <th>profit</th>\n",
       "      <th>quantity</th>\n",
       "      <th>currencyCode</th>\n",
       "    </tr>\n",
       "  </thead>\n",
       "  <tbody>\n",
       "    <tr>\n",
       "      <th>0</th>\n",
       "      <td>194206</td>\n",
       "      <td>2020-01-02T00:00:00</td>\n",
       "      <td>308_notset</td>\n",
       "      <td>notset</td>\n",
       "      <td>308_direct</td>\n",
       "      <td>direct</td>\n",
       "      <td>NaN</td>\n",
       "      <td>NaN</td>\n",
       "      <td>NaN</td>\n",
       "      <td>NaN</td>\n",
       "      <td>...</td>\n",
       "      <td>NaN</td>\n",
       "      <td>NaN</td>\n",
       "      <td>mobile</td>\n",
       "      <td>1465</td>\n",
       "      <td>308</td>\n",
       "      <td>141</td>\n",
       "      <td>1335</td>\n",
       "      <td>NaN</td>\n",
       "      <td>4</td>\n",
       "      <td>CZK</td>\n",
       "    </tr>\n",
       "    <tr>\n",
       "      <th>1</th>\n",
       "      <td>194243</td>\n",
       "      <td>2020-01-02T00:00:00</td>\n",
       "      <td>308_notset</td>\n",
       "      <td>notset</td>\n",
       "      <td>308_direct</td>\n",
       "      <td>direct</td>\n",
       "      <td>NaN</td>\n",
       "      <td>NaN</td>\n",
       "      <td>NaN</td>\n",
       "      <td>NaN</td>\n",
       "      <td>...</td>\n",
       "      <td>NaN</td>\n",
       "      <td>NaN</td>\n",
       "      <td>desktop</td>\n",
       "      <td>1444</td>\n",
       "      <td>303</td>\n",
       "      <td>116</td>\n",
       "      <td>1338</td>\n",
       "      <td>NaN</td>\n",
       "      <td>5</td>\n",
       "      <td>CZK</td>\n",
       "    </tr>\n",
       "    <tr>\n",
       "      <th>2</th>\n",
       "      <td>194247</td>\n",
       "      <td>2020-01-02T00:00:00</td>\n",
       "      <td>308_notset</td>\n",
       "      <td>notset</td>\n",
       "      <td>308_direct</td>\n",
       "      <td>direct</td>\n",
       "      <td>NaN</td>\n",
       "      <td>NaN</td>\n",
       "      <td>NaN</td>\n",
       "      <td>NaN</td>\n",
       "      <td>...</td>\n",
       "      <td>NaN</td>\n",
       "      <td>NaN</td>\n",
       "      <td>desktop</td>\n",
       "      <td>3086</td>\n",
       "      <td>648</td>\n",
       "      <td>116</td>\n",
       "      <td>2934</td>\n",
       "      <td>NaN</td>\n",
       "      <td>2</td>\n",
       "      <td>CZK</td>\n",
       "    </tr>\n",
       "    <tr>\n",
       "      <th>3</th>\n",
       "      <td>194255</td>\n",
       "      <td>2020-01-02T00:00:00</td>\n",
       "      <td>308_notset</td>\n",
       "      <td>notset</td>\n",
       "      <td>308_direct</td>\n",
       "      <td>direct</td>\n",
       "      <td>NaN</td>\n",
       "      <td>NaN</td>\n",
       "      <td>NaN</td>\n",
       "      <td>NaN</td>\n",
       "      <td>...</td>\n",
       "      <td>NaN</td>\n",
       "      <td>NaN</td>\n",
       "      <td>mobile</td>\n",
       "      <td>408</td>\n",
       "      <td>86</td>\n",
       "      <td>116</td>\n",
       "      <td>256</td>\n",
       "      <td>NaN</td>\n",
       "      <td>2</td>\n",
       "      <td>CZK</td>\n",
       "    </tr>\n",
       "    <tr>\n",
       "      <th>4</th>\n",
       "      <td>194287</td>\n",
       "      <td>2020-01-02T00:00:00</td>\n",
       "      <td>308_notset</td>\n",
       "      <td>notset</td>\n",
       "      <td>308_direct</td>\n",
       "      <td>direct</td>\n",
       "      <td>NaN</td>\n",
       "      <td>NaN</td>\n",
       "      <td>NaN</td>\n",
       "      <td>NaN</td>\n",
       "      <td>...</td>\n",
       "      <td>NaN</td>\n",
       "      <td>NaN</td>\n",
       "      <td>desktop</td>\n",
       "      <td>13108</td>\n",
       "      <td>2753</td>\n",
       "      <td>116</td>\n",
       "      <td>14072</td>\n",
       "      <td>NaN</td>\n",
       "      <td>14</td>\n",
       "      <td>CZK</td>\n",
       "    </tr>\n",
       "  </tbody>\n",
       "</table>\n",
       "<p>5 rows × 21 columns</p>\n",
       "</div>"
      ],
      "text/plain": [
       "   orderId            createdAt  platformId platformCode   channelId  \\\n",
       "0   194206  2020-01-02T00:00:00  308_notset       notset  308_direct   \n",
       "1   194243  2020-01-02T00:00:00  308_notset       notset  308_direct   \n",
       "2   194247  2020-01-02T00:00:00  308_notset       notset  308_direct   \n",
       "3   194255  2020-01-02T00:00:00  308_notset       notset  308_direct   \n",
       "4   194287  2020-01-02T00:00:00  308_notset       notset  308_direct   \n",
       "\n",
       "  channelCode  tagCodes  adCode  adGroup  adName  ...  adSearchQuery  \\\n",
       "0      direct       NaN     NaN      NaN     NaN  ...            NaN   \n",
       "1      direct       NaN     NaN      NaN     NaN  ...            NaN   \n",
       "2      direct       NaN     NaN      NaN     NaN  ...            NaN   \n",
       "3      direct       NaN     NaN      NaN     NaN  ...            NaN   \n",
       "4      direct       NaN     NaN      NaN     NaN  ...            NaN   \n",
       "\n",
       "   adProductCode  deviceCategory  total   tax  delivery  revenue  profit  \\\n",
       "0            NaN          mobile   1465   308       141     1335     NaN   \n",
       "1            NaN         desktop   1444   303       116     1338     NaN   \n",
       "2            NaN         desktop   3086   648       116     2934     NaN   \n",
       "3            NaN          mobile    408    86       116      256     NaN   \n",
       "4            NaN         desktop  13108  2753       116    14072     NaN   \n",
       "\n",
       "   quantity  currencyCode  \n",
       "0         4           CZK  \n",
       "1         5           CZK  \n",
       "2         2           CZK  \n",
       "3         2           CZK  \n",
       "4        14           CZK  \n",
       "\n",
       "[5 rows x 21 columns]"
      ]
     },
     "execution_count": 3,
     "metadata": {},
     "output_type": "execute_result"
    }
   ],
   "source": [
    "data.head()"
   ]
  },
  {
   "cell_type": "code",
   "execution_count": 4,
   "metadata": {},
   "outputs": [],
   "source": [
    "unwanted = [\"tagCodes\", \"adCode\", \"adGroup\",\"adName\",\"adContent\", \"adSearchQuery\", \"adProductCode\", \"tax\", \"currencyCode\", \n",
    "            \"profit\", \"platformId\", \"channelId\", \"deviceCategory\", \"orderId\" ]"
   ]
  },
  {
   "cell_type": "code",
   "execution_count": 5,
   "metadata": {},
   "outputs": [],
   "source": [
    "data = data.drop(unwanted, axis = 1)"
   ]
  },
  {
   "cell_type": "code",
   "execution_count": 6,
   "metadata": {},
   "outputs": [],
   "source": [
    "data['createdAt'] = data['createdAt'].str.replace('T00:00:00', '')"
   ]
  },
  {
   "cell_type": "code",
   "execution_count": 7,
   "metadata": {},
   "outputs": [],
   "source": [
    "data[\"createdAt\"] = pd.to_datetime(data[\"createdAt\"])"
   ]
  },
  {
   "cell_type": "code",
   "execution_count": 8,
   "metadata": {},
   "outputs": [
    {
     "data": {
      "text/html": [
       "<div>\n",
       "<style scoped>\n",
       "    .dataframe tbody tr th:only-of-type {\n",
       "        vertical-align: middle;\n",
       "    }\n",
       "\n",
       "    .dataframe tbody tr th {\n",
       "        vertical-align: top;\n",
       "    }\n",
       "\n",
       "    .dataframe thead th {\n",
       "        text-align: right;\n",
       "    }\n",
       "</style>\n",
       "<table border=\"1\" class=\"dataframe\">\n",
       "  <thead>\n",
       "    <tr style=\"text-align: right;\">\n",
       "      <th></th>\n",
       "      <th>createdAt</th>\n",
       "      <th>platformCode</th>\n",
       "      <th>channelCode</th>\n",
       "      <th>total</th>\n",
       "      <th>delivery</th>\n",
       "      <th>revenue</th>\n",
       "      <th>quantity</th>\n",
       "    </tr>\n",
       "  </thead>\n",
       "  <tbody>\n",
       "    <tr>\n",
       "      <th>0</th>\n",
       "      <td>2020-01-02</td>\n",
       "      <td>notset</td>\n",
       "      <td>direct</td>\n",
       "      <td>1465</td>\n",
       "      <td>141</td>\n",
       "      <td>1335</td>\n",
       "      <td>4</td>\n",
       "    </tr>\n",
       "    <tr>\n",
       "      <th>1</th>\n",
       "      <td>2020-01-02</td>\n",
       "      <td>notset</td>\n",
       "      <td>direct</td>\n",
       "      <td>1444</td>\n",
       "      <td>116</td>\n",
       "      <td>1338</td>\n",
       "      <td>5</td>\n",
       "    </tr>\n",
       "    <tr>\n",
       "      <th>2</th>\n",
       "      <td>2020-01-02</td>\n",
       "      <td>notset</td>\n",
       "      <td>direct</td>\n",
       "      <td>3086</td>\n",
       "      <td>116</td>\n",
       "      <td>2934</td>\n",
       "      <td>2</td>\n",
       "    </tr>\n",
       "    <tr>\n",
       "      <th>3</th>\n",
       "      <td>2020-01-02</td>\n",
       "      <td>notset</td>\n",
       "      <td>direct</td>\n",
       "      <td>408</td>\n",
       "      <td>116</td>\n",
       "      <td>256</td>\n",
       "      <td>2</td>\n",
       "    </tr>\n",
       "    <tr>\n",
       "      <th>4</th>\n",
       "      <td>2020-01-02</td>\n",
       "      <td>notset</td>\n",
       "      <td>direct</td>\n",
       "      <td>13108</td>\n",
       "      <td>116</td>\n",
       "      <td>14072</td>\n",
       "      <td>14</td>\n",
       "    </tr>\n",
       "  </tbody>\n",
       "</table>\n",
       "</div>"
      ],
      "text/plain": [
       "   createdAt platformCode channelCode  total  delivery  revenue  quantity\n",
       "0 2020-01-02       notset      direct   1465       141     1335         4\n",
       "1 2020-01-02       notset      direct   1444       116     1338         5\n",
       "2 2020-01-02       notset      direct   3086       116     2934         2\n",
       "3 2020-01-02       notset      direct    408       116      256         2\n",
       "4 2020-01-02       notset      direct  13108       116    14072        14"
      ]
     },
     "execution_count": 8,
     "metadata": {},
     "output_type": "execute_result"
    }
   ],
   "source": [
    "data.head()"
   ]
  },
  {
   "cell_type": "code",
   "execution_count": 9,
   "metadata": {},
   "outputs": [
    {
     "name": "stdout",
     "output_type": "stream",
     "text": [
      "<class 'pandas.core.frame.DataFrame'>\n",
      "RangeIndex: 7918 entries, 0 to 7917\n",
      "Data columns (total 7 columns):\n",
      " #   Column        Non-Null Count  Dtype         \n",
      "---  ------        --------------  -----         \n",
      " 0   createdAt     7918 non-null   datetime64[ns]\n",
      " 1   platformCode  7918 non-null   object        \n",
      " 2   channelCode   7918 non-null   object        \n",
      " 3   total         7918 non-null   int64         \n",
      " 4   delivery      7918 non-null   int64         \n",
      " 5   revenue       7918 non-null   int64         \n",
      " 6   quantity      7918 non-null   int64         \n",
      "dtypes: datetime64[ns](1), int64(4), object(2)\n",
      "memory usage: 433.1+ KB\n"
     ]
    }
   ],
   "source": [
    "data.info()"
   ]
  },
  {
   "cell_type": "code",
   "execution_count": 10,
   "metadata": {},
   "outputs": [
    {
     "data": {
      "text/plain": [
       "AdWords      3147\n",
       "Silverpop    1817\n",
       "notset       1704\n",
       "Sklik         615\n",
       "RtbHouse      400\n",
       "ZboziCz       123\n",
       "HeurekaCz     110\n",
       "FirmyCz         2\n",
       "Name: platformCode, dtype: int64"
      ]
     },
     "execution_count": 10,
     "metadata": {},
     "output_type": "execute_result"
    }
   ],
   "source": [
    "data[\"platformCode\"].value_counts()"
   ]
  },
  {
   "cell_type": "code",
   "execution_count": 11,
   "metadata": {},
   "outputs": [],
   "source": [
    "pushedSales = data.loc[(data[\"platformCode\"] != \"notset\")]"
   ]
  },
  {
   "cell_type": "code",
   "execution_count": 12,
   "metadata": {},
   "outputs": [
    {
     "name": "stderr",
     "output_type": "stream",
     "text": [
      "C:\\Users\\HP\\AppData\\Local\\Temp\\ipykernel_23060\\284122822.py:1: FutureWarning: Indexing with multiple keys (implicitly converted to a tuple of keys) will be deprecated, use a list instead.\n",
      "  pushedSales = pushedSales.groupby([\"createdAt\", \"platformCode\", \"channelCode\"])[\"quantity\", \"total\",\"delivery\", \"revenue\"].sum()\n"
     ]
    }
   ],
   "source": [
    "pushedSales = pushedSales.groupby([\"createdAt\", \"platformCode\", \"channelCode\"])[\"quantity\", \"total\",\"delivery\", \"revenue\"].sum()"
   ]
  },
  {
   "cell_type": "code",
   "execution_count": 13,
   "metadata": {},
   "outputs": [],
   "source": [
    "organicSales = data.loc[(data[\"platformCode\"] == \"notset\")]"
   ]
  },
  {
   "cell_type": "code",
   "execution_count": 14,
   "metadata": {},
   "outputs": [
    {
     "name": "stderr",
     "output_type": "stream",
     "text": [
      "C:\\Users\\HP\\AppData\\Local\\Temp\\ipykernel_23060\\1699774474.py:1: FutureWarning: Indexing with multiple keys (implicitly converted to a tuple of keys) will be deprecated, use a list instead.\n",
      "  organicSales = organicSales.groupby([\"createdAt\", \"platformCode\", \"channelCode\"])[\"quantity\", \"total\",\"delivery\", \"revenue\"].sum()\n"
     ]
    }
   ],
   "source": [
    "organicSales = organicSales.groupby([\"createdAt\", \"platformCode\", \"channelCode\"])[\"quantity\", \"total\",\"delivery\", \"revenue\"].sum()"
   ]
  },
  {
   "cell_type": "code",
   "execution_count": 15,
   "metadata": {},
   "outputs": [],
   "source": [
    "pushedSales.to_csv('../data/pushedSales.csv')"
   ]
  },
  {
   "cell_type": "code",
   "execution_count": 16,
   "metadata": {},
   "outputs": [],
   "source": [
    "organicSales.to_csv('../data/organicSales.csv')"
   ]
  },
  {
   "cell_type": "code",
   "execution_count": null,
   "metadata": {},
   "outputs": [],
   "source": []
  }
 ],
 "metadata": {
  "kernelspec": {
   "display_name": "Python 3.9.13 ('.venv': venv)",
   "language": "python",
   "name": "python3"
  },
  "language_info": {
   "codemirror_mode": {
    "name": "ipython",
    "version": 3
   },
   "file_extension": ".py",
   "mimetype": "text/x-python",
   "name": "python",
   "nbconvert_exporter": "python",
   "pygments_lexer": "ipython3",
   "version": "3.9.13"
  },
  "orig_nbformat": 4,
  "vscode": {
   "interpreter": {
    "hash": "67ba834985650b0e241dafd49e566973c81e00d38b33bee26a51ea82c3974aa9"
   }
  }
 },
 "nbformat": 4,
 "nbformat_minor": 2
}
